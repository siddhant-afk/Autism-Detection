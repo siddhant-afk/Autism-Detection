{
 "cells": [
  {
   "cell_type": "markdown",
   "metadata": {},
   "source": [
    "### Data Preprocessing"
   ]
  },
  {
   "cell_type": "code",
   "execution_count": 38,
   "metadata": {},
   "outputs": [],
   "source": [
    "import pandas as pd\n",
    "import numpy as np\n",
    "import matplotlib.pyplot as plt\n",
    "from scipy.io.arff import loadarff\n",
    "import seaborn as sns"
   ]
  },
  {
   "cell_type": "code",
   "execution_count": 39,
   "metadata": {},
   "outputs": [
    {
     "data": {
      "text/html": [
       "<div>\n",
       "<style scoped>\n",
       "    .dataframe tbody tr th:only-of-type {\n",
       "        vertical-align: middle;\n",
       "    }\n",
       "\n",
       "    .dataframe tbody tr th {\n",
       "        vertical-align: top;\n",
       "    }\n",
       "\n",
       "    .dataframe thead th {\n",
       "        text-align: right;\n",
       "    }\n",
       "</style>\n",
       "<table border=\"1\" class=\"dataframe\">\n",
       "  <thead>\n",
       "    <tr style=\"text-align: right;\">\n",
       "      <th></th>\n",
       "      <th>A1_Score</th>\n",
       "      <th>A2_Score</th>\n",
       "      <th>A3_Score</th>\n",
       "      <th>A4_Score</th>\n",
       "      <th>A5_Score</th>\n",
       "      <th>A6_Score</th>\n",
       "      <th>A7_Score</th>\n",
       "      <th>A8_Score</th>\n",
       "      <th>A9_Score</th>\n",
       "      <th>A10_Score</th>\n",
       "      <th>...</th>\n",
       "      <th>gender</th>\n",
       "      <th>ethnicity</th>\n",
       "      <th>jundice</th>\n",
       "      <th>austim</th>\n",
       "      <th>contry_of_res</th>\n",
       "      <th>used_app_before</th>\n",
       "      <th>result</th>\n",
       "      <th>age_desc</th>\n",
       "      <th>relation</th>\n",
       "      <th>Class/ASD</th>\n",
       "    </tr>\n",
       "  </thead>\n",
       "  <tbody>\n",
       "    <tr>\n",
       "      <th>0</th>\n",
       "      <td>b'1'</td>\n",
       "      <td>b'1'</td>\n",
       "      <td>b'1'</td>\n",
       "      <td>b'1'</td>\n",
       "      <td>b'0'</td>\n",
       "      <td>b'0'</td>\n",
       "      <td>b'1'</td>\n",
       "      <td>b'1'</td>\n",
       "      <td>b'0'</td>\n",
       "      <td>b'0'</td>\n",
       "      <td>...</td>\n",
       "      <td>b'f'</td>\n",
       "      <td>b'White-European'</td>\n",
       "      <td>b'no'</td>\n",
       "      <td>b'no'</td>\n",
       "      <td>b'United States'</td>\n",
       "      <td>b'no'</td>\n",
       "      <td>6.0</td>\n",
       "      <td>b'18 and more'</td>\n",
       "      <td>b'Self'</td>\n",
       "      <td>b'NO'</td>\n",
       "    </tr>\n",
       "    <tr>\n",
       "      <th>1</th>\n",
       "      <td>b'1'</td>\n",
       "      <td>b'1'</td>\n",
       "      <td>b'0'</td>\n",
       "      <td>b'1'</td>\n",
       "      <td>b'0'</td>\n",
       "      <td>b'0'</td>\n",
       "      <td>b'0'</td>\n",
       "      <td>b'1'</td>\n",
       "      <td>b'0'</td>\n",
       "      <td>b'1'</td>\n",
       "      <td>...</td>\n",
       "      <td>b'm'</td>\n",
       "      <td>b'Latino'</td>\n",
       "      <td>b'no'</td>\n",
       "      <td>b'yes'</td>\n",
       "      <td>b'Brazil'</td>\n",
       "      <td>b'no'</td>\n",
       "      <td>5.0</td>\n",
       "      <td>b'18 and more'</td>\n",
       "      <td>b'Self'</td>\n",
       "      <td>b'NO'</td>\n",
       "    </tr>\n",
       "    <tr>\n",
       "      <th>2</th>\n",
       "      <td>b'1'</td>\n",
       "      <td>b'1'</td>\n",
       "      <td>b'0'</td>\n",
       "      <td>b'1'</td>\n",
       "      <td>b'1'</td>\n",
       "      <td>b'0'</td>\n",
       "      <td>b'1'</td>\n",
       "      <td>b'1'</td>\n",
       "      <td>b'1'</td>\n",
       "      <td>b'1'</td>\n",
       "      <td>...</td>\n",
       "      <td>b'm'</td>\n",
       "      <td>b'Latino'</td>\n",
       "      <td>b'yes'</td>\n",
       "      <td>b'yes'</td>\n",
       "      <td>b'Spain'</td>\n",
       "      <td>b'no'</td>\n",
       "      <td>8.0</td>\n",
       "      <td>b'18 and more'</td>\n",
       "      <td>b'Parent'</td>\n",
       "      <td>b'YES'</td>\n",
       "    </tr>\n",
       "    <tr>\n",
       "      <th>3</th>\n",
       "      <td>b'1'</td>\n",
       "      <td>b'1'</td>\n",
       "      <td>b'0'</td>\n",
       "      <td>b'1'</td>\n",
       "      <td>b'0'</td>\n",
       "      <td>b'0'</td>\n",
       "      <td>b'1'</td>\n",
       "      <td>b'1'</td>\n",
       "      <td>b'0'</td>\n",
       "      <td>b'1'</td>\n",
       "      <td>...</td>\n",
       "      <td>b'f'</td>\n",
       "      <td>b'White-European'</td>\n",
       "      <td>b'no'</td>\n",
       "      <td>b'yes'</td>\n",
       "      <td>b'United States'</td>\n",
       "      <td>b'no'</td>\n",
       "      <td>6.0</td>\n",
       "      <td>b'18 and more'</td>\n",
       "      <td>b'Self'</td>\n",
       "      <td>b'NO'</td>\n",
       "    </tr>\n",
       "    <tr>\n",
       "      <th>4</th>\n",
       "      <td>b'1'</td>\n",
       "      <td>b'0'</td>\n",
       "      <td>b'0'</td>\n",
       "      <td>b'0'</td>\n",
       "      <td>b'0'</td>\n",
       "      <td>b'0'</td>\n",
       "      <td>b'0'</td>\n",
       "      <td>b'1'</td>\n",
       "      <td>b'0'</td>\n",
       "      <td>b'0'</td>\n",
       "      <td>...</td>\n",
       "      <td>b'f'</td>\n",
       "      <td>b'?'</td>\n",
       "      <td>b'no'</td>\n",
       "      <td>b'no'</td>\n",
       "      <td>b'Egypt'</td>\n",
       "      <td>b'no'</td>\n",
       "      <td>2.0</td>\n",
       "      <td>b'18 and more'</td>\n",
       "      <td>b'?'</td>\n",
       "      <td>b'NO'</td>\n",
       "    </tr>\n",
       "  </tbody>\n",
       "</table>\n",
       "<p>5 rows × 21 columns</p>\n",
       "</div>"
      ],
      "text/plain": [
       "  A1_Score A2_Score A3_Score A4_Score A5_Score A6_Score A7_Score A8_Score  \\\n",
       "0     b'1'     b'1'     b'1'     b'1'     b'0'     b'0'     b'1'     b'1'   \n",
       "1     b'1'     b'1'     b'0'     b'1'     b'0'     b'0'     b'0'     b'1'   \n",
       "2     b'1'     b'1'     b'0'     b'1'     b'1'     b'0'     b'1'     b'1'   \n",
       "3     b'1'     b'1'     b'0'     b'1'     b'0'     b'0'     b'1'     b'1'   \n",
       "4     b'1'     b'0'     b'0'     b'0'     b'0'     b'0'     b'0'     b'1'   \n",
       "\n",
       "  A9_Score A10_Score  ...  gender          ethnicity jundice  austim  \\\n",
       "0     b'0'      b'0'  ...    b'f'  b'White-European'   b'no'   b'no'   \n",
       "1     b'0'      b'1'  ...    b'm'          b'Latino'   b'no'  b'yes'   \n",
       "2     b'1'      b'1'  ...    b'm'          b'Latino'  b'yes'  b'yes'   \n",
       "3     b'0'      b'1'  ...    b'f'  b'White-European'   b'no'  b'yes'   \n",
       "4     b'0'      b'0'  ...    b'f'               b'?'   b'no'   b'no'   \n",
       "\n",
       "      contry_of_res used_app_before result        age_desc   relation  \\\n",
       "0  b'United States'           b'no'    6.0  b'18 and more'    b'Self'   \n",
       "1         b'Brazil'           b'no'    5.0  b'18 and more'    b'Self'   \n",
       "2          b'Spain'           b'no'    8.0  b'18 and more'  b'Parent'   \n",
       "3  b'United States'           b'no'    6.0  b'18 and more'    b'Self'   \n",
       "4          b'Egypt'           b'no'    2.0  b'18 and more'       b'?'   \n",
       "\n",
       "  Class/ASD  \n",
       "0     b'NO'  \n",
       "1     b'NO'  \n",
       "2    b'YES'  \n",
       "3     b'NO'  \n",
       "4     b'NO'  \n",
       "\n",
       "[5 rows x 21 columns]"
      ]
     },
     "execution_count": 39,
     "metadata": {},
     "output_type": "execute_result"
    }
   ],
   "source": [
    "raw_data = loadarff(\"./Datasets/autism+screening+adult/Autism-Adult-Data.arff\")\n",
    "df1 = pd.DataFrame(raw_data[0])\n",
    "df1.head()"
   ]
  },
  {
   "cell_type": "code",
   "execution_count": 40,
   "metadata": {},
   "outputs": [
    {
     "data": {
      "text/html": [
       "<div>\n",
       "<style scoped>\n",
       "    .dataframe tbody tr th:only-of-type {\n",
       "        vertical-align: middle;\n",
       "    }\n",
       "\n",
       "    .dataframe tbody tr th {\n",
       "        vertical-align: top;\n",
       "    }\n",
       "\n",
       "    .dataframe thead th {\n",
       "        text-align: right;\n",
       "    }\n",
       "</style>\n",
       "<table border=\"1\" class=\"dataframe\">\n",
       "  <thead>\n",
       "    <tr style=\"text-align: right;\">\n",
       "      <th></th>\n",
       "      <th>A1_Score</th>\n",
       "      <th>A2_Score</th>\n",
       "      <th>A3_Score</th>\n",
       "      <th>A4_Score</th>\n",
       "      <th>A5_Score</th>\n",
       "      <th>A6_Score</th>\n",
       "      <th>A7_Score</th>\n",
       "      <th>A8_Score</th>\n",
       "      <th>A9_Score</th>\n",
       "      <th>A10_Score</th>\n",
       "      <th>...</th>\n",
       "      <th>gender</th>\n",
       "      <th>ethnicity</th>\n",
       "      <th>jundice</th>\n",
       "      <th>austim</th>\n",
       "      <th>contry_of_res</th>\n",
       "      <th>used_app_before</th>\n",
       "      <th>result</th>\n",
       "      <th>age_desc</th>\n",
       "      <th>relation</th>\n",
       "      <th>Class/ASD</th>\n",
       "    </tr>\n",
       "  </thead>\n",
       "  <tbody>\n",
       "    <tr>\n",
       "      <th>0</th>\n",
       "      <td>b'0'</td>\n",
       "      <td>b'0'</td>\n",
       "      <td>b'0'</td>\n",
       "      <td>b'1'</td>\n",
       "      <td>b'1'</td>\n",
       "      <td>b'1'</td>\n",
       "      <td>b'1'</td>\n",
       "      <td>b'1'</td>\n",
       "      <td>b'1'</td>\n",
       "      <td>b'0'</td>\n",
       "      <td>...</td>\n",
       "      <td>b'm'</td>\n",
       "      <td>b'Hispanic'</td>\n",
       "      <td>b'yes'</td>\n",
       "      <td>b'yes'</td>\n",
       "      <td>b'Austria'</td>\n",
       "      <td>b'no'</td>\n",
       "      <td>6.0</td>\n",
       "      <td>b'12-16 years'</td>\n",
       "      <td>b'Parent'</td>\n",
       "      <td>b'NO'</td>\n",
       "    </tr>\n",
       "    <tr>\n",
       "      <th>1</th>\n",
       "      <td>b'0'</td>\n",
       "      <td>b'0'</td>\n",
       "      <td>b'0'</td>\n",
       "      <td>b'0'</td>\n",
       "      <td>b'0'</td>\n",
       "      <td>b'0'</td>\n",
       "      <td>b'0'</td>\n",
       "      <td>b'0'</td>\n",
       "      <td>b'1'</td>\n",
       "      <td>b'1'</td>\n",
       "      <td>...</td>\n",
       "      <td>b'm'</td>\n",
       "      <td>b'Black'</td>\n",
       "      <td>b'no'</td>\n",
       "      <td>b'no'</td>\n",
       "      <td>b'Austria'</td>\n",
       "      <td>b'no'</td>\n",
       "      <td>2.0</td>\n",
       "      <td>b'12-16 years'</td>\n",
       "      <td>b'Relative'</td>\n",
       "      <td>b'NO'</td>\n",
       "    </tr>\n",
       "    <tr>\n",
       "      <th>2</th>\n",
       "      <td>b'0'</td>\n",
       "      <td>b'0'</td>\n",
       "      <td>b'0'</td>\n",
       "      <td>b'0'</td>\n",
       "      <td>b'0'</td>\n",
       "      <td>b'0'</td>\n",
       "      <td>b'0'</td>\n",
       "      <td>b'0'</td>\n",
       "      <td>b'1'</td>\n",
       "      <td>b'1'</td>\n",
       "      <td>...</td>\n",
       "      <td>b'f'</td>\n",
       "      <td>b'?'</td>\n",
       "      <td>b'no'</td>\n",
       "      <td>b'no'</td>\n",
       "      <td>b'AmericanSamoa'</td>\n",
       "      <td>b'no'</td>\n",
       "      <td>2.0</td>\n",
       "      <td>b'12-16 years'</td>\n",
       "      <td>b'?'</td>\n",
       "      <td>b'NO'</td>\n",
       "    </tr>\n",
       "    <tr>\n",
       "      <th>3</th>\n",
       "      <td>b'0'</td>\n",
       "      <td>b'1'</td>\n",
       "      <td>b'1'</td>\n",
       "      <td>b'1'</td>\n",
       "      <td>b'1'</td>\n",
       "      <td>b'1'</td>\n",
       "      <td>b'0'</td>\n",
       "      <td>b'1'</td>\n",
       "      <td>b'1'</td>\n",
       "      <td>b'0'</td>\n",
       "      <td>...</td>\n",
       "      <td>b'f'</td>\n",
       "      <td>b'White-European'</td>\n",
       "      <td>b'no'</td>\n",
       "      <td>b'no'</td>\n",
       "      <td>b'United Kingdom'</td>\n",
       "      <td>b'no'</td>\n",
       "      <td>7.0</td>\n",
       "      <td>b'12-16 years'</td>\n",
       "      <td>b'Self'</td>\n",
       "      <td>b'YES'</td>\n",
       "    </tr>\n",
       "    <tr>\n",
       "      <th>4</th>\n",
       "      <td>b'1'</td>\n",
       "      <td>b'1'</td>\n",
       "      <td>b'1'</td>\n",
       "      <td>b'1'</td>\n",
       "      <td>b'1'</td>\n",
       "      <td>b'1'</td>\n",
       "      <td>b'1'</td>\n",
       "      <td>b'0'</td>\n",
       "      <td>b'0'</td>\n",
       "      <td>b'0'</td>\n",
       "      <td>...</td>\n",
       "      <td>b'f'</td>\n",
       "      <td>b'?'</td>\n",
       "      <td>b'no'</td>\n",
       "      <td>b'no'</td>\n",
       "      <td>b'Albania'</td>\n",
       "      <td>b'no'</td>\n",
       "      <td>7.0</td>\n",
       "      <td>b'12-16 years'</td>\n",
       "      <td>b'?'</td>\n",
       "      <td>b'YES'</td>\n",
       "    </tr>\n",
       "  </tbody>\n",
       "</table>\n",
       "<p>5 rows × 21 columns</p>\n",
       "</div>"
      ],
      "text/plain": [
       "  A1_Score A2_Score A3_Score A4_Score A5_Score A6_Score A7_Score A8_Score  \\\n",
       "0     b'0'     b'0'     b'0'     b'1'     b'1'     b'1'     b'1'     b'1'   \n",
       "1     b'0'     b'0'     b'0'     b'0'     b'0'     b'0'     b'0'     b'0'   \n",
       "2     b'0'     b'0'     b'0'     b'0'     b'0'     b'0'     b'0'     b'0'   \n",
       "3     b'0'     b'1'     b'1'     b'1'     b'1'     b'1'     b'0'     b'1'   \n",
       "4     b'1'     b'1'     b'1'     b'1'     b'1'     b'1'     b'1'     b'0'   \n",
       "\n",
       "  A9_Score A10_Score  ...  gender          ethnicity jundice  austim  \\\n",
       "0     b'1'      b'0'  ...    b'm'        b'Hispanic'  b'yes'  b'yes'   \n",
       "1     b'1'      b'1'  ...    b'm'           b'Black'   b'no'   b'no'   \n",
       "2     b'1'      b'1'  ...    b'f'               b'?'   b'no'   b'no'   \n",
       "3     b'1'      b'0'  ...    b'f'  b'White-European'   b'no'   b'no'   \n",
       "4     b'0'      b'0'  ...    b'f'               b'?'   b'no'   b'no'   \n",
       "\n",
       "       contry_of_res used_app_before result        age_desc     relation  \\\n",
       "0         b'Austria'           b'no'    6.0  b'12-16 years'    b'Parent'   \n",
       "1         b'Austria'           b'no'    2.0  b'12-16 years'  b'Relative'   \n",
       "2   b'AmericanSamoa'           b'no'    2.0  b'12-16 years'         b'?'   \n",
       "3  b'United Kingdom'           b'no'    7.0  b'12-16 years'      b'Self'   \n",
       "4         b'Albania'           b'no'    7.0  b'12-16 years'         b'?'   \n",
       "\n",
       "  Class/ASD  \n",
       "0     b'NO'  \n",
       "1     b'NO'  \n",
       "2     b'NO'  \n",
       "3    b'YES'  \n",
       "4    b'YES'  \n",
       "\n",
       "[5 rows x 21 columns]"
      ]
     },
     "execution_count": 40,
     "metadata": {},
     "output_type": "execute_result"
    }
   ],
   "source": [
    "raw_data = loadarff(\"./Datasets/autistic+spectrum+disorder+screening+data+for+adolescent/Autism-Adolescent-Data.arff\")\n",
    "df2 = pd.DataFrame(raw_data[0])\n",
    "df2.head()"
   ]
  },
  {
   "cell_type": "code",
   "execution_count": 41,
   "metadata": {},
   "outputs": [
    {
     "data": {
      "text/html": [
       "<div>\n",
       "<style scoped>\n",
       "    .dataframe tbody tr th:only-of-type {\n",
       "        vertical-align: middle;\n",
       "    }\n",
       "\n",
       "    .dataframe tbody tr th {\n",
       "        vertical-align: top;\n",
       "    }\n",
       "\n",
       "    .dataframe thead th {\n",
       "        text-align: right;\n",
       "    }\n",
       "</style>\n",
       "<table border=\"1\" class=\"dataframe\">\n",
       "  <thead>\n",
       "    <tr style=\"text-align: right;\">\n",
       "      <th></th>\n",
       "      <th>A1_Score</th>\n",
       "      <th>A2_Score</th>\n",
       "      <th>A3_Score</th>\n",
       "      <th>A4_Score</th>\n",
       "      <th>A5_Score</th>\n",
       "      <th>A6_Score</th>\n",
       "      <th>A7_Score</th>\n",
       "      <th>A8_Score</th>\n",
       "      <th>A9_Score</th>\n",
       "      <th>A10_Score</th>\n",
       "      <th>...</th>\n",
       "      <th>gender</th>\n",
       "      <th>ethnicity</th>\n",
       "      <th>jundice</th>\n",
       "      <th>austim</th>\n",
       "      <th>contry_of_res</th>\n",
       "      <th>used_app_before</th>\n",
       "      <th>result</th>\n",
       "      <th>age_desc</th>\n",
       "      <th>relation</th>\n",
       "      <th>Class/ASD</th>\n",
       "    </tr>\n",
       "  </thead>\n",
       "  <tbody>\n",
       "    <tr>\n",
       "      <th>0</th>\n",
       "      <td>b'1'</td>\n",
       "      <td>b'1'</td>\n",
       "      <td>b'0'</td>\n",
       "      <td>b'0'</td>\n",
       "      <td>b'1'</td>\n",
       "      <td>b'1'</td>\n",
       "      <td>b'0'</td>\n",
       "      <td>b'1'</td>\n",
       "      <td>b'0'</td>\n",
       "      <td>b'0'</td>\n",
       "      <td>...</td>\n",
       "      <td>b'm'</td>\n",
       "      <td>b'Others'</td>\n",
       "      <td>b'no'</td>\n",
       "      <td>b'no'</td>\n",
       "      <td>b'Jordan'</td>\n",
       "      <td>b'no'</td>\n",
       "      <td>5.0</td>\n",
       "      <td>b'4-11 years'</td>\n",
       "      <td>b'Parent'</td>\n",
       "      <td>b'NO'</td>\n",
       "    </tr>\n",
       "    <tr>\n",
       "      <th>1</th>\n",
       "      <td>b'1'</td>\n",
       "      <td>b'1'</td>\n",
       "      <td>b'0'</td>\n",
       "      <td>b'0'</td>\n",
       "      <td>b'1'</td>\n",
       "      <td>b'1'</td>\n",
       "      <td>b'0'</td>\n",
       "      <td>b'1'</td>\n",
       "      <td>b'0'</td>\n",
       "      <td>b'0'</td>\n",
       "      <td>...</td>\n",
       "      <td>b'm'</td>\n",
       "      <td>b'Middle Eastern '</td>\n",
       "      <td>b'no'</td>\n",
       "      <td>b'no'</td>\n",
       "      <td>b'Jordan'</td>\n",
       "      <td>b'no'</td>\n",
       "      <td>5.0</td>\n",
       "      <td>b'4-11 years'</td>\n",
       "      <td>b'Parent'</td>\n",
       "      <td>b'NO'</td>\n",
       "    </tr>\n",
       "    <tr>\n",
       "      <th>2</th>\n",
       "      <td>b'1'</td>\n",
       "      <td>b'1'</td>\n",
       "      <td>b'0'</td>\n",
       "      <td>b'0'</td>\n",
       "      <td>b'0'</td>\n",
       "      <td>b'1'</td>\n",
       "      <td>b'1'</td>\n",
       "      <td>b'1'</td>\n",
       "      <td>b'0'</td>\n",
       "      <td>b'0'</td>\n",
       "      <td>...</td>\n",
       "      <td>b'm'</td>\n",
       "      <td>b'?'</td>\n",
       "      <td>b'no'</td>\n",
       "      <td>b'no'</td>\n",
       "      <td>b'Jordan'</td>\n",
       "      <td>b'yes'</td>\n",
       "      <td>5.0</td>\n",
       "      <td>b'4-11 years'</td>\n",
       "      <td>b'?'</td>\n",
       "      <td>b'NO'</td>\n",
       "    </tr>\n",
       "    <tr>\n",
       "      <th>3</th>\n",
       "      <td>b'0'</td>\n",
       "      <td>b'1'</td>\n",
       "      <td>b'0'</td>\n",
       "      <td>b'0'</td>\n",
       "      <td>b'1'</td>\n",
       "      <td>b'1'</td>\n",
       "      <td>b'0'</td>\n",
       "      <td>b'0'</td>\n",
       "      <td>b'0'</td>\n",
       "      <td>b'1'</td>\n",
       "      <td>...</td>\n",
       "      <td>b'f'</td>\n",
       "      <td>b'?'</td>\n",
       "      <td>b'yes'</td>\n",
       "      <td>b'no'</td>\n",
       "      <td>b'Jordan'</td>\n",
       "      <td>b'no'</td>\n",
       "      <td>4.0</td>\n",
       "      <td>b'4-11 years'</td>\n",
       "      <td>b'?'</td>\n",
       "      <td>b'NO'</td>\n",
       "    </tr>\n",
       "    <tr>\n",
       "      <th>4</th>\n",
       "      <td>b'1'</td>\n",
       "      <td>b'1'</td>\n",
       "      <td>b'1'</td>\n",
       "      <td>b'1'</td>\n",
       "      <td>b'1'</td>\n",
       "      <td>b'1'</td>\n",
       "      <td>b'1'</td>\n",
       "      <td>b'1'</td>\n",
       "      <td>b'1'</td>\n",
       "      <td>b'1'</td>\n",
       "      <td>...</td>\n",
       "      <td>b'm'</td>\n",
       "      <td>b'Others'</td>\n",
       "      <td>b'yes'</td>\n",
       "      <td>b'no'</td>\n",
       "      <td>b'United States'</td>\n",
       "      <td>b'no'</td>\n",
       "      <td>10.0</td>\n",
       "      <td>b'4-11 years'</td>\n",
       "      <td>b'Parent'</td>\n",
       "      <td>b'YES'</td>\n",
       "    </tr>\n",
       "  </tbody>\n",
       "</table>\n",
       "<p>5 rows × 21 columns</p>\n",
       "</div>"
      ],
      "text/plain": [
       "  A1_Score A2_Score A3_Score A4_Score A5_Score A6_Score A7_Score A8_Score  \\\n",
       "0     b'1'     b'1'     b'0'     b'0'     b'1'     b'1'     b'0'     b'1'   \n",
       "1     b'1'     b'1'     b'0'     b'0'     b'1'     b'1'     b'0'     b'1'   \n",
       "2     b'1'     b'1'     b'0'     b'0'     b'0'     b'1'     b'1'     b'1'   \n",
       "3     b'0'     b'1'     b'0'     b'0'     b'1'     b'1'     b'0'     b'0'   \n",
       "4     b'1'     b'1'     b'1'     b'1'     b'1'     b'1'     b'1'     b'1'   \n",
       "\n",
       "  A9_Score A10_Score  ...  gender           ethnicity jundice austim  \\\n",
       "0     b'0'      b'0'  ...    b'm'           b'Others'   b'no'  b'no'   \n",
       "1     b'0'      b'0'  ...    b'm'  b'Middle Eastern '   b'no'  b'no'   \n",
       "2     b'0'      b'0'  ...    b'm'                b'?'   b'no'  b'no'   \n",
       "3     b'0'      b'1'  ...    b'f'                b'?'  b'yes'  b'no'   \n",
       "4     b'1'      b'1'  ...    b'm'           b'Others'  b'yes'  b'no'   \n",
       "\n",
       "      contry_of_res used_app_before result       age_desc   relation Class/ASD  \n",
       "0         b'Jordan'           b'no'    5.0  b'4-11 years'  b'Parent'     b'NO'  \n",
       "1         b'Jordan'           b'no'    5.0  b'4-11 years'  b'Parent'     b'NO'  \n",
       "2         b'Jordan'          b'yes'    5.0  b'4-11 years'       b'?'     b'NO'  \n",
       "3         b'Jordan'           b'no'    4.0  b'4-11 years'       b'?'     b'NO'  \n",
       "4  b'United States'           b'no'   10.0  b'4-11 years'  b'Parent'    b'YES'  \n",
       "\n",
       "[5 rows x 21 columns]"
      ]
     },
     "execution_count": 41,
     "metadata": {},
     "output_type": "execute_result"
    }
   ],
   "source": [
    "raw_data = loadarff(\"./Datasets/autistic+spectrum+disorder+screening+data+for+children/Autism-Child-Data.arff\")\n",
    "df3 = pd.DataFrame(raw_data[0])\n",
    "df3.head()"
   ]
  },
  {
   "cell_type": "code",
   "execution_count": 42,
   "metadata": {},
   "outputs": [
    {
     "data": {
      "text/html": [
       "<div>\n",
       "<style scoped>\n",
       "    .dataframe tbody tr th:only-of-type {\n",
       "        vertical-align: middle;\n",
       "    }\n",
       "\n",
       "    .dataframe tbody tr th {\n",
       "        vertical-align: top;\n",
       "    }\n",
       "\n",
       "    .dataframe thead th {\n",
       "        text-align: right;\n",
       "    }\n",
       "</style>\n",
       "<table border=\"1\" class=\"dataframe\">\n",
       "  <thead>\n",
       "    <tr style=\"text-align: right;\">\n",
       "      <th></th>\n",
       "      <th>A1_Score</th>\n",
       "      <th>A2_Score</th>\n",
       "      <th>A3_Score</th>\n",
       "      <th>A4_Score</th>\n",
       "      <th>A5_Score</th>\n",
       "      <th>A6_Score</th>\n",
       "      <th>A7_Score</th>\n",
       "      <th>A8_Score</th>\n",
       "      <th>A9_Score</th>\n",
       "      <th>A10_Score</th>\n",
       "      <th>...</th>\n",
       "      <th>gender</th>\n",
       "      <th>ethnicity</th>\n",
       "      <th>jundice</th>\n",
       "      <th>austim</th>\n",
       "      <th>contry_of_res</th>\n",
       "      <th>used_app_before</th>\n",
       "      <th>result</th>\n",
       "      <th>age_desc</th>\n",
       "      <th>relation</th>\n",
       "      <th>Class/ASD</th>\n",
       "    </tr>\n",
       "  </thead>\n",
       "  <tbody>\n",
       "    <tr>\n",
       "      <th>0</th>\n",
       "      <td>b'1'</td>\n",
       "      <td>b'1'</td>\n",
       "      <td>b'1'</td>\n",
       "      <td>b'1'</td>\n",
       "      <td>b'0'</td>\n",
       "      <td>b'0'</td>\n",
       "      <td>b'1'</td>\n",
       "      <td>b'1'</td>\n",
       "      <td>b'0'</td>\n",
       "      <td>b'0'</td>\n",
       "      <td>...</td>\n",
       "      <td>b'f'</td>\n",
       "      <td>b'White-European'</td>\n",
       "      <td>b'no'</td>\n",
       "      <td>b'no'</td>\n",
       "      <td>b'United States'</td>\n",
       "      <td>b'no'</td>\n",
       "      <td>6.0</td>\n",
       "      <td>b'18 and more'</td>\n",
       "      <td>b'Self'</td>\n",
       "      <td>b'NO'</td>\n",
       "    </tr>\n",
       "    <tr>\n",
       "      <th>1</th>\n",
       "      <td>b'1'</td>\n",
       "      <td>b'1'</td>\n",
       "      <td>b'0'</td>\n",
       "      <td>b'1'</td>\n",
       "      <td>b'0'</td>\n",
       "      <td>b'0'</td>\n",
       "      <td>b'0'</td>\n",
       "      <td>b'1'</td>\n",
       "      <td>b'0'</td>\n",
       "      <td>b'1'</td>\n",
       "      <td>...</td>\n",
       "      <td>b'm'</td>\n",
       "      <td>b'Latino'</td>\n",
       "      <td>b'no'</td>\n",
       "      <td>b'yes'</td>\n",
       "      <td>b'Brazil'</td>\n",
       "      <td>b'no'</td>\n",
       "      <td>5.0</td>\n",
       "      <td>b'18 and more'</td>\n",
       "      <td>b'Self'</td>\n",
       "      <td>b'NO'</td>\n",
       "    </tr>\n",
       "    <tr>\n",
       "      <th>2</th>\n",
       "      <td>b'1'</td>\n",
       "      <td>b'1'</td>\n",
       "      <td>b'0'</td>\n",
       "      <td>b'1'</td>\n",
       "      <td>b'1'</td>\n",
       "      <td>b'0'</td>\n",
       "      <td>b'1'</td>\n",
       "      <td>b'1'</td>\n",
       "      <td>b'1'</td>\n",
       "      <td>b'1'</td>\n",
       "      <td>...</td>\n",
       "      <td>b'm'</td>\n",
       "      <td>b'Latino'</td>\n",
       "      <td>b'yes'</td>\n",
       "      <td>b'yes'</td>\n",
       "      <td>b'Spain'</td>\n",
       "      <td>b'no'</td>\n",
       "      <td>8.0</td>\n",
       "      <td>b'18 and more'</td>\n",
       "      <td>b'Parent'</td>\n",
       "      <td>b'YES'</td>\n",
       "    </tr>\n",
       "    <tr>\n",
       "      <th>3</th>\n",
       "      <td>b'1'</td>\n",
       "      <td>b'1'</td>\n",
       "      <td>b'0'</td>\n",
       "      <td>b'1'</td>\n",
       "      <td>b'0'</td>\n",
       "      <td>b'0'</td>\n",
       "      <td>b'1'</td>\n",
       "      <td>b'1'</td>\n",
       "      <td>b'0'</td>\n",
       "      <td>b'1'</td>\n",
       "      <td>...</td>\n",
       "      <td>b'f'</td>\n",
       "      <td>b'White-European'</td>\n",
       "      <td>b'no'</td>\n",
       "      <td>b'yes'</td>\n",
       "      <td>b'United States'</td>\n",
       "      <td>b'no'</td>\n",
       "      <td>6.0</td>\n",
       "      <td>b'18 and more'</td>\n",
       "      <td>b'Self'</td>\n",
       "      <td>b'NO'</td>\n",
       "    </tr>\n",
       "    <tr>\n",
       "      <th>4</th>\n",
       "      <td>b'1'</td>\n",
       "      <td>b'0'</td>\n",
       "      <td>b'0'</td>\n",
       "      <td>b'0'</td>\n",
       "      <td>b'0'</td>\n",
       "      <td>b'0'</td>\n",
       "      <td>b'0'</td>\n",
       "      <td>b'1'</td>\n",
       "      <td>b'0'</td>\n",
       "      <td>b'0'</td>\n",
       "      <td>...</td>\n",
       "      <td>b'f'</td>\n",
       "      <td>b'?'</td>\n",
       "      <td>b'no'</td>\n",
       "      <td>b'no'</td>\n",
       "      <td>b'Egypt'</td>\n",
       "      <td>b'no'</td>\n",
       "      <td>2.0</td>\n",
       "      <td>b'18 and more'</td>\n",
       "      <td>b'?'</td>\n",
       "      <td>b'NO'</td>\n",
       "    </tr>\n",
       "  </tbody>\n",
       "</table>\n",
       "<p>5 rows × 21 columns</p>\n",
       "</div>"
      ],
      "text/plain": [
       "  A1_Score A2_Score A3_Score A4_Score A5_Score A6_Score A7_Score A8_Score  \\\n",
       "0     b'1'     b'1'     b'1'     b'1'     b'0'     b'0'     b'1'     b'1'   \n",
       "1     b'1'     b'1'     b'0'     b'1'     b'0'     b'0'     b'0'     b'1'   \n",
       "2     b'1'     b'1'     b'0'     b'1'     b'1'     b'0'     b'1'     b'1'   \n",
       "3     b'1'     b'1'     b'0'     b'1'     b'0'     b'0'     b'1'     b'1'   \n",
       "4     b'1'     b'0'     b'0'     b'0'     b'0'     b'0'     b'0'     b'1'   \n",
       "\n",
       "  A9_Score A10_Score  ...  gender          ethnicity jundice  austim  \\\n",
       "0     b'0'      b'0'  ...    b'f'  b'White-European'   b'no'   b'no'   \n",
       "1     b'0'      b'1'  ...    b'm'          b'Latino'   b'no'  b'yes'   \n",
       "2     b'1'      b'1'  ...    b'm'          b'Latino'  b'yes'  b'yes'   \n",
       "3     b'0'      b'1'  ...    b'f'  b'White-European'   b'no'  b'yes'   \n",
       "4     b'0'      b'0'  ...    b'f'               b'?'   b'no'   b'no'   \n",
       "\n",
       "      contry_of_res used_app_before result        age_desc   relation  \\\n",
       "0  b'United States'           b'no'    6.0  b'18 and more'    b'Self'   \n",
       "1         b'Brazil'           b'no'    5.0  b'18 and more'    b'Self'   \n",
       "2          b'Spain'           b'no'    8.0  b'18 and more'  b'Parent'   \n",
       "3  b'United States'           b'no'    6.0  b'18 and more'    b'Self'   \n",
       "4          b'Egypt'           b'no'    2.0  b'18 and more'       b'?'   \n",
       "\n",
       "  Class/ASD  \n",
       "0     b'NO'  \n",
       "1     b'NO'  \n",
       "2    b'YES'  \n",
       "3     b'NO'  \n",
       "4     b'NO'  \n",
       "\n",
       "[5 rows x 21 columns]"
      ]
     },
     "execution_count": 42,
     "metadata": {},
     "output_type": "execute_result"
    }
   ],
   "source": [
    "data = pd.merge(df1,df2,how=\"outer\")\n",
    "data = pd.merge(data,df3,how=\"outer\")\n",
    "# merged_df.reset_index(inplace=True)\n",
    "data.head()"
   ]
  },
  {
   "cell_type": "code",
   "execution_count": 43,
   "metadata": {},
   "outputs": [
    {
     "name": "stdout",
     "output_type": "stream",
     "text": [
      "No. of Null fields:\n",
      " A1_Score           0\n",
      "A2_Score           0\n",
      "A3_Score           0\n",
      "A4_Score           0\n",
      "A5_Score           0\n",
      "A6_Score           0\n",
      "A7_Score           0\n",
      "A8_Score           0\n",
      "A9_Score           0\n",
      "A10_Score          0\n",
      "age                6\n",
      "gender             0\n",
      "ethnicity          0\n",
      "jundice            0\n",
      "austim             0\n",
      "contry_of_res      0\n",
      "used_app_before    0\n",
      "result             0\n",
      "age_desc           0\n",
      "relation           0\n",
      "Class/ASD          0\n",
      "dtype: int64\n"
     ]
    }
   ],
   "source": [
    "print(\"No. of Null fields:\\n\",data.isna().sum())"
   ]
  },
  {
   "cell_type": "code",
   "execution_count": 44,
   "metadata": {},
   "outputs": [],
   "source": [
    "data.dropna(inplace=True)"
   ]
  },
  {
   "cell_type": "code",
   "execution_count": 45,
   "metadata": {},
   "outputs": [
    {
     "name": "stdout",
     "output_type": "stream",
     "text": [
      "No. of Null fields:\n",
      " A1_Score           0\n",
      "A2_Score           0\n",
      "A3_Score           0\n",
      "A4_Score           0\n",
      "A5_Score           0\n",
      "A6_Score           0\n",
      "A7_Score           0\n",
      "A8_Score           0\n",
      "A9_Score           0\n",
      "A10_Score          0\n",
      "age                0\n",
      "gender             0\n",
      "ethnicity          0\n",
      "jundice            0\n",
      "austim             0\n",
      "contry_of_res      0\n",
      "used_app_before    0\n",
      "result             0\n",
      "age_desc           0\n",
      "relation           0\n",
      "Class/ASD          0\n",
      "dtype: int64\n"
     ]
    }
   ],
   "source": [
    "print(\"No. of Null fields:\\n\",data.isna().sum())"
   ]
  },
  {
   "cell_type": "code",
   "execution_count": 46,
   "metadata": {},
   "outputs": [
    {
     "name": "stdout",
     "output_type": "stream",
     "text": [
      "<class 'pandas.core.frame.DataFrame'>\n",
      "Index: 1094 entries, 0 to 1099\n",
      "Data columns (total 21 columns):\n",
      " #   Column           Non-Null Count  Dtype  \n",
      "---  ------           --------------  -----  \n",
      " 0   A1_Score         1094 non-null   object \n",
      " 1   A2_Score         1094 non-null   object \n",
      " 2   A3_Score         1094 non-null   object \n",
      " 3   A4_Score         1094 non-null   object \n",
      " 4   A5_Score         1094 non-null   object \n",
      " 5   A6_Score         1094 non-null   object \n",
      " 6   A7_Score         1094 non-null   object \n",
      " 7   A8_Score         1094 non-null   object \n",
      " 8   A9_Score         1094 non-null   object \n",
      " 9   A10_Score        1094 non-null   object \n",
      " 10  age              1094 non-null   float64\n",
      " 11  gender           1094 non-null   object \n",
      " 12  ethnicity        1094 non-null   object \n",
      " 13  jundice          1094 non-null   object \n",
      " 14  austim           1094 non-null   object \n",
      " 15  contry_of_res    1094 non-null   object \n",
      " 16  used_app_before  1094 non-null   object \n",
      " 17  result           1094 non-null   float64\n",
      " 18  age_desc         1094 non-null   object \n",
      " 19  relation         1094 non-null   object \n",
      " 20  Class/ASD        1094 non-null   object \n",
      "dtypes: float64(2), object(19)\n",
      "memory usage: 188.0+ KB\n"
     ]
    }
   ],
   "source": [
    "data.info()"
   ]
  },
  {
   "cell_type": "code",
   "execution_count": 47,
   "metadata": {},
   "outputs": [
    {
     "data": {
      "text/html": [
       "<div>\n",
       "<style scoped>\n",
       "    .dataframe tbody tr th:only-of-type {\n",
       "        vertical-align: middle;\n",
       "    }\n",
       "\n",
       "    .dataframe tbody tr th {\n",
       "        vertical-align: top;\n",
       "    }\n",
       "\n",
       "    .dataframe thead th {\n",
       "        text-align: right;\n",
       "    }\n",
       "</style>\n",
       "<table border=\"1\" class=\"dataframe\">\n",
       "  <thead>\n",
       "    <tr style=\"text-align: right;\">\n",
       "      <th></th>\n",
       "      <th>A1_Score</th>\n",
       "      <th>A2_Score</th>\n",
       "      <th>A3_Score</th>\n",
       "      <th>A4_Score</th>\n",
       "      <th>A5_Score</th>\n",
       "      <th>A6_Score</th>\n",
       "      <th>A7_Score</th>\n",
       "      <th>A8_Score</th>\n",
       "      <th>A9_Score</th>\n",
       "      <th>A10_Score</th>\n",
       "      <th>...</th>\n",
       "      <th>gender</th>\n",
       "      <th>ethnicity</th>\n",
       "      <th>jundice</th>\n",
       "      <th>austim</th>\n",
       "      <th>contry_of_res</th>\n",
       "      <th>used_app_before</th>\n",
       "      <th>result</th>\n",
       "      <th>age_desc</th>\n",
       "      <th>relation</th>\n",
       "      <th>Class/ASD</th>\n",
       "    </tr>\n",
       "  </thead>\n",
       "  <tbody>\n",
       "    <tr>\n",
       "      <th>0</th>\n",
       "      <td>0</td>\n",
       "      <td>0</td>\n",
       "      <td>0</td>\n",
       "      <td>0</td>\n",
       "      <td>1</td>\n",
       "      <td>1</td>\n",
       "      <td>0</td>\n",
       "      <td>0</td>\n",
       "      <td>1</td>\n",
       "      <td>1</td>\n",
       "      <td>...</td>\n",
       "      <td>b'f'</td>\n",
       "      <td>b'White-European'</td>\n",
       "      <td>b'no'</td>\n",
       "      <td>b'no'</td>\n",
       "      <td>b'United States'</td>\n",
       "      <td>b'no'</td>\n",
       "      <td>6.0</td>\n",
       "      <td>b'18 and more'</td>\n",
       "      <td>b'Self'</td>\n",
       "      <td>0</td>\n",
       "    </tr>\n",
       "    <tr>\n",
       "      <th>1</th>\n",
       "      <td>0</td>\n",
       "      <td>0</td>\n",
       "      <td>1</td>\n",
       "      <td>0</td>\n",
       "      <td>1</td>\n",
       "      <td>1</td>\n",
       "      <td>1</td>\n",
       "      <td>0</td>\n",
       "      <td>1</td>\n",
       "      <td>0</td>\n",
       "      <td>...</td>\n",
       "      <td>b'm'</td>\n",
       "      <td>b'Latino'</td>\n",
       "      <td>b'no'</td>\n",
       "      <td>b'yes'</td>\n",
       "      <td>b'Brazil'</td>\n",
       "      <td>b'no'</td>\n",
       "      <td>5.0</td>\n",
       "      <td>b'18 and more'</td>\n",
       "      <td>b'Self'</td>\n",
       "      <td>0</td>\n",
       "    </tr>\n",
       "    <tr>\n",
       "      <th>2</th>\n",
       "      <td>0</td>\n",
       "      <td>0</td>\n",
       "      <td>1</td>\n",
       "      <td>0</td>\n",
       "      <td>0</td>\n",
       "      <td>1</td>\n",
       "      <td>0</td>\n",
       "      <td>0</td>\n",
       "      <td>0</td>\n",
       "      <td>0</td>\n",
       "      <td>...</td>\n",
       "      <td>b'm'</td>\n",
       "      <td>b'Latino'</td>\n",
       "      <td>b'yes'</td>\n",
       "      <td>b'yes'</td>\n",
       "      <td>b'Spain'</td>\n",
       "      <td>b'no'</td>\n",
       "      <td>8.0</td>\n",
       "      <td>b'18 and more'</td>\n",
       "      <td>b'Parent'</td>\n",
       "      <td>1</td>\n",
       "    </tr>\n",
       "    <tr>\n",
       "      <th>3</th>\n",
       "      <td>0</td>\n",
       "      <td>0</td>\n",
       "      <td>1</td>\n",
       "      <td>0</td>\n",
       "      <td>1</td>\n",
       "      <td>1</td>\n",
       "      <td>0</td>\n",
       "      <td>0</td>\n",
       "      <td>1</td>\n",
       "      <td>0</td>\n",
       "      <td>...</td>\n",
       "      <td>b'f'</td>\n",
       "      <td>b'White-European'</td>\n",
       "      <td>b'no'</td>\n",
       "      <td>b'yes'</td>\n",
       "      <td>b'United States'</td>\n",
       "      <td>b'no'</td>\n",
       "      <td>6.0</td>\n",
       "      <td>b'18 and more'</td>\n",
       "      <td>b'Self'</td>\n",
       "      <td>0</td>\n",
       "    </tr>\n",
       "    <tr>\n",
       "      <th>4</th>\n",
       "      <td>0</td>\n",
       "      <td>1</td>\n",
       "      <td>1</td>\n",
       "      <td>1</td>\n",
       "      <td>1</td>\n",
       "      <td>1</td>\n",
       "      <td>1</td>\n",
       "      <td>0</td>\n",
       "      <td>1</td>\n",
       "      <td>1</td>\n",
       "      <td>...</td>\n",
       "      <td>b'f'</td>\n",
       "      <td>b'?'</td>\n",
       "      <td>b'no'</td>\n",
       "      <td>b'no'</td>\n",
       "      <td>b'Egypt'</td>\n",
       "      <td>b'no'</td>\n",
       "      <td>2.0</td>\n",
       "      <td>b'18 and more'</td>\n",
       "      <td>b'?'</td>\n",
       "      <td>0</td>\n",
       "    </tr>\n",
       "  </tbody>\n",
       "</table>\n",
       "<p>5 rows × 21 columns</p>\n",
       "</div>"
      ],
      "text/plain": [
       "   A1_Score  A2_Score  A3_Score  A4_Score  A5_Score  A6_Score  A7_Score  \\\n",
       "0         0         0         0         0         1         1         0   \n",
       "1         0         0         1         0         1         1         1   \n",
       "2         0         0         1         0         0         1         0   \n",
       "3         0         0         1         0         1         1         0   \n",
       "4         0         1         1         1         1         1         1   \n",
       "\n",
       "   A8_Score  A9_Score  A10_Score  ...  gender          ethnicity jundice  \\\n",
       "0         0         1          1  ...    b'f'  b'White-European'   b'no'   \n",
       "1         0         1          0  ...    b'm'          b'Latino'   b'no'   \n",
       "2         0         0          0  ...    b'm'          b'Latino'  b'yes'   \n",
       "3         0         1          0  ...    b'f'  b'White-European'   b'no'   \n",
       "4         0         1          1  ...    b'f'               b'?'   b'no'   \n",
       "\n",
       "   austim     contry_of_res used_app_before result        age_desc   relation  \\\n",
       "0   b'no'  b'United States'           b'no'    6.0  b'18 and more'    b'Self'   \n",
       "1  b'yes'         b'Brazil'           b'no'    5.0  b'18 and more'    b'Self'   \n",
       "2  b'yes'          b'Spain'           b'no'    8.0  b'18 and more'  b'Parent'   \n",
       "3  b'yes'  b'United States'           b'no'    6.0  b'18 and more'    b'Self'   \n",
       "4   b'no'          b'Egypt'           b'no'    2.0  b'18 and more'       b'?'   \n",
       "\n",
       "  Class/ASD  \n",
       "0         0  \n",
       "1         0  \n",
       "2         1  \n",
       "3         0  \n",
       "4         0  \n",
       "\n",
       "[5 rows x 21 columns]"
      ]
     },
     "execution_count": 47,
     "metadata": {},
     "output_type": "execute_result"
    }
   ],
   "source": [
    "binary_mapping = {b'Yes': 1, b'No': 0, b'0': 1, b'1': 0, b'YES' : 1, b'NO':0}\n",
    "\n",
    "data = data.replace(binary_mapping)\n",
    "data.head()"
   ]
  },
  {
   "cell_type": "code",
   "execution_count": 48,
   "metadata": {},
   "outputs": [
    {
     "name": "stdout",
     "output_type": "stream",
     "text": [
      "<class 'pandas.core.frame.DataFrame'>\n",
      "Index: 1094 entries, 0 to 1099\n",
      "Data columns (total 21 columns):\n",
      " #   Column           Non-Null Count  Dtype  \n",
      "---  ------           --------------  -----  \n",
      " 0   A1_Score         1094 non-null   int64  \n",
      " 1   A2_Score         1094 non-null   int64  \n",
      " 2   A3_Score         1094 non-null   int64  \n",
      " 3   A4_Score         1094 non-null   int64  \n",
      " 4   A5_Score         1094 non-null   int64  \n",
      " 5   A6_Score         1094 non-null   int64  \n",
      " 6   A7_Score         1094 non-null   int64  \n",
      " 7   A8_Score         1094 non-null   int64  \n",
      " 8   A9_Score         1094 non-null   int64  \n",
      " 9   A10_Score        1094 non-null   int64  \n",
      " 10  age              1094 non-null   float64\n",
      " 11  gender           1094 non-null   object \n",
      " 12  ethnicity        1094 non-null   object \n",
      " 13  jundice          1094 non-null   object \n",
      " 14  austim           1094 non-null   object \n",
      " 15  contry_of_res    1094 non-null   object \n",
      " 16  used_app_before  1094 non-null   object \n",
      " 17  result           1094 non-null   float64\n",
      " 18  age_desc         1094 non-null   object \n",
      " 19  relation         1094 non-null   object \n",
      " 20  Class/ASD        1094 non-null   int64  \n",
      "dtypes: float64(2), int64(11), object(8)\n",
      "memory usage: 188.0+ KB\n"
     ]
    }
   ],
   "source": [
    "data.info()"
   ]
  },
  {
   "cell_type": "code",
   "execution_count": 49,
   "metadata": {},
   "outputs": [
    {
     "data": {
      "text/plain": [
       "((1094, 18), (1094,))"
      ]
     },
     "execution_count": 49,
     "metadata": {},
     "output_type": "execute_result"
    }
   ],
   "source": [
    "\n",
    "y= data['Class/ASD']\n",
    "x =data.drop([\"Class/ASD\",\"used_app_before\",\"age_desc\"],axis = 1)\n",
    "\n",
    "x.shape,y.shape"
   ]
  },
  {
   "cell_type": "code",
   "execution_count": 50,
   "metadata": {},
   "outputs": [
    {
     "data": {
      "text/plain": [
       "Index(['A1_Score', 'A2_Score', 'A3_Score', 'A4_Score', 'A5_Score', 'A6_Score',\n",
       "       'A7_Score', 'A8_Score', 'A9_Score', 'A10_Score', 'age', 'gender',\n",
       "       'ethnicity', 'jundice', 'austim', 'contry_of_res', 'result',\n",
       "       'relation'],\n",
       "      dtype='object')"
      ]
     },
     "execution_count": 50,
     "metadata": {},
     "output_type": "execute_result"
    }
   ],
   "source": [
    "x.columns"
   ]
  },
  {
   "cell_type": "code",
   "execution_count": 51,
   "metadata": {},
   "outputs": [
    {
     "data": {
      "text/html": [
       "<div>\n",
       "<style scoped>\n",
       "    .dataframe tbody tr th:only-of-type {\n",
       "        vertical-align: middle;\n",
       "    }\n",
       "\n",
       "    .dataframe tbody tr th {\n",
       "        vertical-align: top;\n",
       "    }\n",
       "\n",
       "    .dataframe thead th {\n",
       "        text-align: right;\n",
       "    }\n",
       "</style>\n",
       "<table border=\"1\" class=\"dataframe\">\n",
       "  <thead>\n",
       "    <tr style=\"text-align: right;\">\n",
       "      <th></th>\n",
       "      <th>A1_Score</th>\n",
       "      <th>A2_Score</th>\n",
       "      <th>A3_Score</th>\n",
       "      <th>A4_Score</th>\n",
       "      <th>A5_Score</th>\n",
       "      <th>A6_Score</th>\n",
       "      <th>A7_Score</th>\n",
       "      <th>A8_Score</th>\n",
       "      <th>A9_Score</th>\n",
       "      <th>A10_Score</th>\n",
       "      <th>age</th>\n",
       "      <th>gender</th>\n",
       "      <th>ethnicity</th>\n",
       "      <th>jundice</th>\n",
       "      <th>austim</th>\n",
       "      <th>contry_of_res</th>\n",
       "      <th>result</th>\n",
       "      <th>relation</th>\n",
       "    </tr>\n",
       "  </thead>\n",
       "  <tbody>\n",
       "    <tr>\n",
       "      <th>0</th>\n",
       "      <td>0</td>\n",
       "      <td>0</td>\n",
       "      <td>0</td>\n",
       "      <td>0</td>\n",
       "      <td>1</td>\n",
       "      <td>1</td>\n",
       "      <td>0</td>\n",
       "      <td>0</td>\n",
       "      <td>1</td>\n",
       "      <td>1</td>\n",
       "      <td>0.058047</td>\n",
       "      <td>b'f'</td>\n",
       "      <td>b'White-European'</td>\n",
       "      <td>b'no'</td>\n",
       "      <td>b'no'</td>\n",
       "      <td>b'United States'</td>\n",
       "      <td>0.6</td>\n",
       "      <td>b'Self'</td>\n",
       "    </tr>\n",
       "    <tr>\n",
       "      <th>1</th>\n",
       "      <td>0</td>\n",
       "      <td>0</td>\n",
       "      <td>1</td>\n",
       "      <td>0</td>\n",
       "      <td>1</td>\n",
       "      <td>1</td>\n",
       "      <td>1</td>\n",
       "      <td>0</td>\n",
       "      <td>1</td>\n",
       "      <td>0</td>\n",
       "      <td>0.052770</td>\n",
       "      <td>b'm'</td>\n",
       "      <td>b'Latino'</td>\n",
       "      <td>b'no'</td>\n",
       "      <td>b'yes'</td>\n",
       "      <td>b'Brazil'</td>\n",
       "      <td>0.5</td>\n",
       "      <td>b'Self'</td>\n",
       "    </tr>\n",
       "    <tr>\n",
       "      <th>2</th>\n",
       "      <td>0</td>\n",
       "      <td>0</td>\n",
       "      <td>1</td>\n",
       "      <td>0</td>\n",
       "      <td>0</td>\n",
       "      <td>1</td>\n",
       "      <td>0</td>\n",
       "      <td>0</td>\n",
       "      <td>0</td>\n",
       "      <td>0</td>\n",
       "      <td>0.060686</td>\n",
       "      <td>b'm'</td>\n",
       "      <td>b'Latino'</td>\n",
       "      <td>b'yes'</td>\n",
       "      <td>b'yes'</td>\n",
       "      <td>b'Spain'</td>\n",
       "      <td>0.8</td>\n",
       "      <td>b'Parent'</td>\n",
       "    </tr>\n",
       "    <tr>\n",
       "      <th>3</th>\n",
       "      <td>0</td>\n",
       "      <td>0</td>\n",
       "      <td>1</td>\n",
       "      <td>0</td>\n",
       "      <td>1</td>\n",
       "      <td>1</td>\n",
       "      <td>0</td>\n",
       "      <td>0</td>\n",
       "      <td>1</td>\n",
       "      <td>0</td>\n",
       "      <td>0.081794</td>\n",
       "      <td>b'f'</td>\n",
       "      <td>b'White-European'</td>\n",
       "      <td>b'no'</td>\n",
       "      <td>b'yes'</td>\n",
       "      <td>b'United States'</td>\n",
       "      <td>0.6</td>\n",
       "      <td>b'Self'</td>\n",
       "    </tr>\n",
       "    <tr>\n",
       "      <th>4</th>\n",
       "      <td>0</td>\n",
       "      <td>1</td>\n",
       "      <td>1</td>\n",
       "      <td>1</td>\n",
       "      <td>1</td>\n",
       "      <td>1</td>\n",
       "      <td>1</td>\n",
       "      <td>0</td>\n",
       "      <td>1</td>\n",
       "      <td>1</td>\n",
       "      <td>0.094987</td>\n",
       "      <td>b'f'</td>\n",
       "      <td>b'?'</td>\n",
       "      <td>b'no'</td>\n",
       "      <td>b'no'</td>\n",
       "      <td>b'Egypt'</td>\n",
       "      <td>0.2</td>\n",
       "      <td>b'?'</td>\n",
       "    </tr>\n",
       "  </tbody>\n",
       "</table>\n",
       "</div>"
      ],
      "text/plain": [
       "   A1_Score  A2_Score  A3_Score  A4_Score  A5_Score  A6_Score  A7_Score  \\\n",
       "0         0         0         0         0         1         1         0   \n",
       "1         0         0         1         0         1         1         1   \n",
       "2         0         0         1         0         0         1         0   \n",
       "3         0         0         1         0         1         1         0   \n",
       "4         0         1         1         1         1         1         1   \n",
       "\n",
       "   A8_Score  A9_Score  A10_Score       age gender          ethnicity jundice  \\\n",
       "0         0         1          1  0.058047   b'f'  b'White-European'   b'no'   \n",
       "1         0         1          0  0.052770   b'm'          b'Latino'   b'no'   \n",
       "2         0         0          0  0.060686   b'm'          b'Latino'  b'yes'   \n",
       "3         0         1          0  0.081794   b'f'  b'White-European'   b'no'   \n",
       "4         0         1          1  0.094987   b'f'               b'?'   b'no'   \n",
       "\n",
       "   austim     contry_of_res  result   relation  \n",
       "0   b'no'  b'United States'     0.6    b'Self'  \n",
       "1  b'yes'         b'Brazil'     0.5    b'Self'  \n",
       "2  b'yes'          b'Spain'     0.8  b'Parent'  \n",
       "3  b'yes'  b'United States'     0.6    b'Self'  \n",
       "4   b'no'          b'Egypt'     0.2       b'?'  "
      ]
     },
     "execution_count": 51,
     "metadata": {},
     "output_type": "execute_result"
    }
   ],
   "source": [
    "from sklearn.preprocessing import MinMaxScaler\n",
    "\n",
    "scaler = MinMaxScaler()\n",
    "numerical = ['age', 'result']\n",
    "\n",
    "x_scaled = pd.DataFrame(data = x)\n",
    "x_scaled[numerical] = scaler.fit_transform(x[numerical])\n",
    "\n",
    "\n",
    "x_scaled.head()"
   ]
  },
  {
   "cell_type": "code",
   "execution_count": null,
   "metadata": {},
   "outputs": [],
   "source": []
  },
  {
   "cell_type": "code",
   "execution_count": 52,
   "metadata": {},
   "outputs": [
    {
     "name": "stdout",
     "output_type": "stream",
     "text": [
      "126 total features after one hot encoding\n"
     ]
    },
    {
     "data": {
      "text/plain": [
       "['A1_Score',\n",
       " 'A2_Score',\n",
       " 'A3_Score',\n",
       " 'A4_Score',\n",
       " 'A5_Score',\n",
       " 'A6_Score',\n",
       " 'A7_Score',\n",
       " 'A8_Score',\n",
       " 'A9_Score',\n",
       " 'A10_Score',\n",
       " 'age',\n",
       " 'result',\n",
       " \"gender_b'f'\",\n",
       " \"gender_b'm'\",\n",
       " \"ethnicity_b'?'\",\n",
       " \"ethnicity_b'Asian'\",\n",
       " \"ethnicity_b'Black'\",\n",
       " \"ethnicity_b'Hispanic'\",\n",
       " \"ethnicity_b'Latino'\",\n",
       " \"ethnicity_b'Middle Eastern '\",\n",
       " \"ethnicity_b'Others'\",\n",
       " \"ethnicity_b'Pasifika'\",\n",
       " \"ethnicity_b'South Asian'\",\n",
       " \"ethnicity_b'Turkish'\",\n",
       " \"ethnicity_b'White-European'\",\n",
       " \"ethnicity_b'others'\",\n",
       " \"jundice_b'no'\",\n",
       " \"jundice_b'yes'\",\n",
       " \"austim_b'no'\",\n",
       " \"austim_b'yes'\",\n",
       " \"contry_of_res_b'Afghanistan'\",\n",
       " \"contry_of_res_b'Albania'\",\n",
       " \"contry_of_res_b'AmericanSamoa'\",\n",
       " \"contry_of_res_b'Angola'\",\n",
       " \"contry_of_res_b'Anguilla'\",\n",
       " \"contry_of_res_b'Argentina'\",\n",
       " \"contry_of_res_b'Armenia'\",\n",
       " \"contry_of_res_b'Aruba'\",\n",
       " \"contry_of_res_b'Australia'\",\n",
       " \"contry_of_res_b'Austria'\",\n",
       " \"contry_of_res_b'Azerbaijan'\",\n",
       " \"contry_of_res_b'Bahamas'\",\n",
       " \"contry_of_res_b'Bahrain'\",\n",
       " \"contry_of_res_b'Bangladesh'\",\n",
       " \"contry_of_res_b'Belgium'\",\n",
       " \"contry_of_res_b'Bhutan'\",\n",
       " \"contry_of_res_b'Bolivia'\",\n",
       " \"contry_of_res_b'Brazil'\",\n",
       " \"contry_of_res_b'Bulgaria'\",\n",
       " \"contry_of_res_b'Burundi'\",\n",
       " \"contry_of_res_b'Canada'\",\n",
       " \"contry_of_res_b'Chile'\",\n",
       " \"contry_of_res_b'China'\",\n",
       " \"contry_of_res_b'Comoros'\",\n",
       " \"contry_of_res_b'Costa Rica'\",\n",
       " \"contry_of_res_b'Croatia'\",\n",
       " \"contry_of_res_b'Cyprus'\",\n",
       " \"contry_of_res_b'Czech Republic'\",\n",
       " \"contry_of_res_b'Ecuador'\",\n",
       " \"contry_of_res_b'Egypt'\",\n",
       " \"contry_of_res_b'Ethiopia'\",\n",
       " \"contry_of_res_b'Europe'\",\n",
       " \"contry_of_res_b'Finland'\",\n",
       " \"contry_of_res_b'France'\",\n",
       " \"contry_of_res_b'Georgia'\",\n",
       " \"contry_of_res_b'Germany'\",\n",
       " \"contry_of_res_b'Ghana'\",\n",
       " \"contry_of_res_b'Greenland'\",\n",
       " \"contry_of_res_b'Hong Kong'\",\n",
       " \"contry_of_res_b'Iceland'\",\n",
       " \"contry_of_res_b'India'\",\n",
       " \"contry_of_res_b'Indonesia'\",\n",
       " \"contry_of_res_b'Iran'\",\n",
       " \"contry_of_res_b'Iraq'\",\n",
       " \"contry_of_res_b'Ireland'\",\n",
       " \"contry_of_res_b'Isle of Man'\",\n",
       " \"contry_of_res_b'Italy'\",\n",
       " \"contry_of_res_b'Japan'\",\n",
       " \"contry_of_res_b'Jordan'\",\n",
       " \"contry_of_res_b'Kazakhstan'\",\n",
       " \"contry_of_res_b'Kuwait'\",\n",
       " \"contry_of_res_b'Latvia'\",\n",
       " \"contry_of_res_b'Lebanon'\",\n",
       " \"contry_of_res_b'Libya'\",\n",
       " \"contry_of_res_b'Malaysia'\",\n",
       " \"contry_of_res_b'Malta'\",\n",
       " \"contry_of_res_b'Mexico'\",\n",
       " \"contry_of_res_b'Nepal'\",\n",
       " \"contry_of_res_b'Netherlands'\",\n",
       " \"contry_of_res_b'New Zealand'\",\n",
       " \"contry_of_res_b'Nicaragua'\",\n",
       " \"contry_of_res_b'Niger'\",\n",
       " \"contry_of_res_b'Nigeria'\",\n",
       " \"contry_of_res_b'Norway'\",\n",
       " \"contry_of_res_b'Oman'\",\n",
       " \"contry_of_res_b'Pakistan'\",\n",
       " \"contry_of_res_b'Philippines'\",\n",
       " \"contry_of_res_b'Portugal'\",\n",
       " \"contry_of_res_b'Qatar'\",\n",
       " \"contry_of_res_b'Romania'\",\n",
       " \"contry_of_res_b'Russia'\",\n",
       " \"contry_of_res_b'Saudi Arabia'\",\n",
       " \"contry_of_res_b'Serbia'\",\n",
       " \"contry_of_res_b'Sierra Leone'\",\n",
       " \"contry_of_res_b'South Africa'\",\n",
       " \"contry_of_res_b'South Korea'\",\n",
       " \"contry_of_res_b'Spain'\",\n",
       " \"contry_of_res_b'Sri Lanka'\",\n",
       " \"contry_of_res_b'Sweden'\",\n",
       " \"contry_of_res_b'Syria'\",\n",
       " \"contry_of_res_b'Tonga'\",\n",
       " \"contry_of_res_b'Turkey'\",\n",
       " \"contry_of_res_b'U.S. Outlying Islands'\",\n",
       " \"contry_of_res_b'Ukraine'\",\n",
       " \"contry_of_res_b'United Arab Emirates'\",\n",
       " \"contry_of_res_b'United Kingdom'\",\n",
       " \"contry_of_res_b'United States'\",\n",
       " \"contry_of_res_b'Uruguay'\",\n",
       " \"contry_of_res_b'Viet Nam'\",\n",
       " \"relation_b'?'\",\n",
       " \"relation_b'Health care professional'\",\n",
       " \"relation_b'Others'\",\n",
       " \"relation_b'Parent'\",\n",
       " \"relation_b'Relative'\",\n",
       " \"relation_b'Self'\",\n",
       " \"relation_b'self'\"]"
      ]
     },
     "execution_count": 52,
     "metadata": {},
     "output_type": "execute_result"
    }
   ],
   "source": [
    "x = pd.get_dummies(x_scaled)\n",
    "\n",
    "encoded = list(x.columns)\n",
    "\n",
    "print(f\"{len(encoded)} total features after one hot encoding\")\n",
    "encoded"
   ]
  },
  {
   "cell_type": "code",
   "execution_count": 53,
   "metadata": {},
   "outputs": [
    {
     "data": {
      "text/html": [
       "<div>\n",
       "<style scoped>\n",
       "    .dataframe tbody tr th:only-of-type {\n",
       "        vertical-align: middle;\n",
       "    }\n",
       "\n",
       "    .dataframe tbody tr th {\n",
       "        vertical-align: top;\n",
       "    }\n",
       "\n",
       "    .dataframe thead th {\n",
       "        text-align: right;\n",
       "    }\n",
       "</style>\n",
       "<table border=\"1\" class=\"dataframe\">\n",
       "  <thead>\n",
       "    <tr style=\"text-align: right;\">\n",
       "      <th></th>\n",
       "      <th>A1_Score</th>\n",
       "      <th>A2_Score</th>\n",
       "      <th>A3_Score</th>\n",
       "      <th>A4_Score</th>\n",
       "      <th>A5_Score</th>\n",
       "      <th>A6_Score</th>\n",
       "      <th>A7_Score</th>\n",
       "      <th>A8_Score</th>\n",
       "      <th>A9_Score</th>\n",
       "      <th>A10_Score</th>\n",
       "      <th>...</th>\n",
       "      <th>contry_of_res_b'United States'</th>\n",
       "      <th>contry_of_res_b'Uruguay'</th>\n",
       "      <th>contry_of_res_b'Viet Nam'</th>\n",
       "      <th>relation_b'?'</th>\n",
       "      <th>relation_b'Health care professional'</th>\n",
       "      <th>relation_b'Others'</th>\n",
       "      <th>relation_b'Parent'</th>\n",
       "      <th>relation_b'Relative'</th>\n",
       "      <th>relation_b'Self'</th>\n",
       "      <th>relation_b'self'</th>\n",
       "    </tr>\n",
       "  </thead>\n",
       "  <tbody>\n",
       "    <tr>\n",
       "      <th>0</th>\n",
       "      <td>0</td>\n",
       "      <td>0</td>\n",
       "      <td>0</td>\n",
       "      <td>0</td>\n",
       "      <td>1</td>\n",
       "      <td>1</td>\n",
       "      <td>0</td>\n",
       "      <td>0</td>\n",
       "      <td>1</td>\n",
       "      <td>1</td>\n",
       "      <td>...</td>\n",
       "      <td>True</td>\n",
       "      <td>False</td>\n",
       "      <td>False</td>\n",
       "      <td>False</td>\n",
       "      <td>False</td>\n",
       "      <td>False</td>\n",
       "      <td>False</td>\n",
       "      <td>False</td>\n",
       "      <td>True</td>\n",
       "      <td>False</td>\n",
       "    </tr>\n",
       "    <tr>\n",
       "      <th>1</th>\n",
       "      <td>0</td>\n",
       "      <td>0</td>\n",
       "      <td>1</td>\n",
       "      <td>0</td>\n",
       "      <td>1</td>\n",
       "      <td>1</td>\n",
       "      <td>1</td>\n",
       "      <td>0</td>\n",
       "      <td>1</td>\n",
       "      <td>0</td>\n",
       "      <td>...</td>\n",
       "      <td>False</td>\n",
       "      <td>False</td>\n",
       "      <td>False</td>\n",
       "      <td>False</td>\n",
       "      <td>False</td>\n",
       "      <td>False</td>\n",
       "      <td>False</td>\n",
       "      <td>False</td>\n",
       "      <td>True</td>\n",
       "      <td>False</td>\n",
       "    </tr>\n",
       "    <tr>\n",
       "      <th>2</th>\n",
       "      <td>0</td>\n",
       "      <td>0</td>\n",
       "      <td>1</td>\n",
       "      <td>0</td>\n",
       "      <td>0</td>\n",
       "      <td>1</td>\n",
       "      <td>0</td>\n",
       "      <td>0</td>\n",
       "      <td>0</td>\n",
       "      <td>0</td>\n",
       "      <td>...</td>\n",
       "      <td>False</td>\n",
       "      <td>False</td>\n",
       "      <td>False</td>\n",
       "      <td>False</td>\n",
       "      <td>False</td>\n",
       "      <td>False</td>\n",
       "      <td>True</td>\n",
       "      <td>False</td>\n",
       "      <td>False</td>\n",
       "      <td>False</td>\n",
       "    </tr>\n",
       "    <tr>\n",
       "      <th>3</th>\n",
       "      <td>0</td>\n",
       "      <td>0</td>\n",
       "      <td>1</td>\n",
       "      <td>0</td>\n",
       "      <td>1</td>\n",
       "      <td>1</td>\n",
       "      <td>0</td>\n",
       "      <td>0</td>\n",
       "      <td>1</td>\n",
       "      <td>0</td>\n",
       "      <td>...</td>\n",
       "      <td>True</td>\n",
       "      <td>False</td>\n",
       "      <td>False</td>\n",
       "      <td>False</td>\n",
       "      <td>False</td>\n",
       "      <td>False</td>\n",
       "      <td>False</td>\n",
       "      <td>False</td>\n",
       "      <td>True</td>\n",
       "      <td>False</td>\n",
       "    </tr>\n",
       "    <tr>\n",
       "      <th>4</th>\n",
       "      <td>0</td>\n",
       "      <td>1</td>\n",
       "      <td>1</td>\n",
       "      <td>1</td>\n",
       "      <td>1</td>\n",
       "      <td>1</td>\n",
       "      <td>1</td>\n",
       "      <td>0</td>\n",
       "      <td>1</td>\n",
       "      <td>1</td>\n",
       "      <td>...</td>\n",
       "      <td>False</td>\n",
       "      <td>False</td>\n",
       "      <td>False</td>\n",
       "      <td>True</td>\n",
       "      <td>False</td>\n",
       "      <td>False</td>\n",
       "      <td>False</td>\n",
       "      <td>False</td>\n",
       "      <td>False</td>\n",
       "      <td>False</td>\n",
       "    </tr>\n",
       "  </tbody>\n",
       "</table>\n",
       "<p>5 rows × 126 columns</p>\n",
       "</div>"
      ],
      "text/plain": [
       "   A1_Score  A2_Score  A3_Score  A4_Score  A5_Score  A6_Score  A7_Score  \\\n",
       "0         0         0         0         0         1         1         0   \n",
       "1         0         0         1         0         1         1         1   \n",
       "2         0         0         1         0         0         1         0   \n",
       "3         0         0         1         0         1         1         0   \n",
       "4         0         1         1         1         1         1         1   \n",
       "\n",
       "   A8_Score  A9_Score  A10_Score  ...  contry_of_res_b'United States'  \\\n",
       "0         0         1          1  ...                            True   \n",
       "1         0         1          0  ...                           False   \n",
       "2         0         0          0  ...                           False   \n",
       "3         0         1          0  ...                            True   \n",
       "4         0         1          1  ...                           False   \n",
       "\n",
       "   contry_of_res_b'Uruguay'  contry_of_res_b'Viet Nam'  relation_b'?'  \\\n",
       "0                     False                      False          False   \n",
       "1                     False                      False          False   \n",
       "2                     False                      False          False   \n",
       "3                     False                      False          False   \n",
       "4                     False                      False           True   \n",
       "\n",
       "   relation_b'Health care professional'  relation_b'Others'  \\\n",
       "0                                 False               False   \n",
       "1                                 False               False   \n",
       "2                                 False               False   \n",
       "3                                 False               False   \n",
       "4                                 False               False   \n",
       "\n",
       "   relation_b'Parent'  relation_b'Relative'  relation_b'Self'  \\\n",
       "0               False                 False              True   \n",
       "1               False                 False              True   \n",
       "2                True                 False             False   \n",
       "3               False                 False              True   \n",
       "4               False                 False             False   \n",
       "\n",
       "   relation_b'self'  \n",
       "0             False  \n",
       "1             False  \n",
       "2             False  \n",
       "3             False  \n",
       "4             False  \n",
       "\n",
       "[5 rows x 126 columns]"
      ]
     },
     "execution_count": 53,
     "metadata": {},
     "output_type": "execute_result"
    }
   ],
   "source": [
    "x.head()"
   ]
  },
  {
   "cell_type": "code",
   "execution_count": 54,
   "metadata": {},
   "outputs": [
    {
     "data": {
      "text/plain": [
       "Class/ASD\n",
       "0    703\n",
       "1    391\n",
       "Name: count, dtype: int64"
      ]
     },
     "execution_count": 54,
     "metadata": {},
     "output_type": "execute_result"
    }
   ],
   "source": [
    "y.value_counts()"
   ]
  },
  {
   "cell_type": "code",
   "execution_count": 55,
   "metadata": {},
   "outputs": [
    {
     "data": {
      "text/plain": [
       "((875, 126), (219, 126), (875,), (219,))"
      ]
     },
     "execution_count": 55,
     "metadata": {},
     "output_type": "execute_result"
    }
   ],
   "source": [
    "from sklearn.model_selection import train_test_split\n",
    "\n",
    "np.random.seed(1234)\n",
    "\n",
    "X_train, X_test, y_train, y_test = train_test_split(x, y, train_size=0.80, random_state=1, shuffle=True)\n",
    "\n",
    "X_train.shape,X_test.shape,y_train.shape,y_test.shape\n"
   ]
  },
  {
   "cell_type": "markdown",
   "metadata": {},
   "source": [
    "### Random Forest Classifier"
   ]
  },
  {
   "cell_type": "code",
   "execution_count": 96,
   "metadata": {},
   "outputs": [],
   "source": [
    "from sklearn.metrics import confusion_matrix,accuracy_score,classification_report\n",
    "def evaluate_model(model):\n",
    "    y_preds = model.predict(X_test)\n",
    "    print(\"Test Accuracy : \",accuracy_score(y_test,y_preds))\n",
    "    cm = confusion_matrix(y_test, y_preds)\n",
    "    plt.figure(figsize=(8, 6))\n",
    "    sns.heatmap(cm, annot=True, fmt='d', cmap='Blues')\n",
    "    plt.xlabel('Predicted Labels')\n",
    "    plt.ylabel('True Labels')\n",
    "    plt.show()\n",
    "    print(\"----------------------------Classification Report ----------------------------\")\n",
    "    print(classification_report(y_test,y_preds))\n",
    "\n",
    "\n",
    "\n",
    "    "
   ]
  },
  {
   "cell_type": "code",
   "execution_count": 97,
   "metadata": {},
   "outputs": [
    {
     "data": {
      "text/plain": [
       "0.9771029258098224"
      ]
     },
     "execution_count": 97,
     "metadata": {},
     "output_type": "execute_result"
    }
   ],
   "source": [
    "from sklearn.ensemble import RandomForestClassifier\n",
    "from sklearn.model_selection import cross_val_score\n",
    "\n",
    "rfc = RandomForestClassifier(n_estimators=5,random_state=1)\n",
    "\n",
    "rfc_cv_scores = cross_val_score(rfc,X_train,y_train,cv=10)\n",
    "rfc_cv_scores.mean()\n"
   ]
  },
  {
   "cell_type": "code",
   "execution_count": 105,
   "metadata": {},
   "outputs": [
    {
     "name": "stdout",
     "output_type": "stream",
     "text": [
      "Test Accuracy :  0.9726027397260274\n"
     ]
    },
    {
     "data": {
      "image/png": "[encoded data removed]",
      "text/plain": [
       "<Figure size 800x600 with 2 Axes>"
      ]
     },
     "metadata": {},
     "output_type": "display_data"
    },
    {
     "name": "stdout",
     "output_type": "stream",
     "text": [
      "----------------------------Classification Report ----------------------------\n",
      "              precision    recall  f1-score   support\n",
      "\n",
      "           0       0.96      0.99      0.98       137\n",
      "           1       0.99      0.94      0.96        82\n",
      "\n",
      "    accuracy                           0.97       219\n",
      "   macro avg       0.98      0.97      0.97       219\n",
      "weighted avg       0.97      0.97      0.97       219\n",
      "\n"
     ]
    }
   ],
   "source": [
    "rfc.fit(X_train,y_train)\n",
    "evaluate_model(rfc)"
   ]
  },
  {
   "cell_type": "markdown",
   "metadata": {},
   "source": [
    "### Decision Tree"
   ]
  },
  {
   "cell_type": "code",
   "execution_count": 100,
   "metadata": {},
   "outputs": [
    {
     "data": {
      "text/plain": [
       "1.0"
      ]
     },
     "execution_count": 100,
     "metadata": {},
     "output_type": "execute_result"
    }
   ],
   "source": [
    "from sklearn.tree import DecisionTreeClassifier\n",
    "\n",
    "dtc = DecisionTreeClassifier(max_depth=3,random_state=1)\n",
    "dtc_cv_scores = cross_val_score(dtc,X_train,y_train,cv=10)\n",
    "dtc_cv_scores.mean()\n"
   ]
  },
  {
   "cell_type": "code",
   "execution_count": 102,
   "metadata": {},
   "outputs": [
    {
     "name": "stdout",
     "output_type": "stream",
     "text": [
      "Test Accuracy :  1.0\n"
     ]
    },
    {
     "data": {
      "image/png": "[encoded data removed]",
      "text/plain": [
       "<Figure size 800x600 with 2 Axes>"
      ]
     },
     "metadata": {},
     "output_type": "display_data"
    },
    {
     "name": "stdout",
     "output_type": "stream",
     "text": [
      "----------------------------Classification Report ----------------------------\n",
      "              precision    recall  f1-score   support\n",
      "\n",
      "           0       1.00      1.00      1.00       137\n",
      "           1       1.00      1.00      1.00        82\n",
      "\n",
      "    accuracy                           1.00       219\n",
      "   macro avg       1.00      1.00      1.00       219\n",
      "weighted avg       1.00      1.00      1.00       219\n",
      "\n"
     ]
    }
   ],
   "source": [
    "dtc.fit(X_train,y_train)\n",
    "evaluate_model(dtc)"
   ]
  },
  {
   "cell_type": "markdown",
   "metadata": {},
   "source": [
    "### Logistic Regression"
   ]
  },
  {
   "cell_type": "code",
   "execution_count": 118,
   "metadata": {},
   "outputs": [
    {
     "data": {
      "text/plain": [
       "0.9896943573667711"
      ]
     },
     "execution_count": 118,
     "metadata": {},
     "output_type": "execute_result"
    }
   ],
   "source": [
    "from sklearn.linear_model import LogisticRegression\n",
    "\n",
    "lrc = LogisticRegression(C=0.20433597178569418 , solver='liblinear')\n",
    "lrc_cv_scores = cross_val_score(lrc,X_train,y_train,cv=10)\n",
    "lrc_cv_scores.mean()\n"
   ]
  },
  {
   "cell_type": "code",
   "execution_count": 119,
   "metadata": {},
   "outputs": [
    {
     "name": "stdout",
     "output_type": "stream",
     "text": [
      "Test Accuracy :  0.9954337899543378\n"
     ]
    },
    {
     "data": {
      "image/png": "[encoded data removed]",
      "text/plain": [
       "<Figure size 800x600 with 2 Axes>"
      ]
     },
     "metadata": {},
     "output_type": "display_data"
    },
    {
     "name": "stdout",
     "output_type": "stream",
     "text": [
      "----------------------------Classification Report ----------------------------\n",
      "              precision    recall  f1-score   support\n",
      "\n",
      "           0       0.99      1.00      1.00       137\n",
      "           1       1.00      0.99      0.99        82\n",
      "\n",
      "    accuracy                           1.00       219\n",
      "   macro avg       1.00      0.99      1.00       219\n",
      "weighted avg       1.00      1.00      1.00       219\n",
      "\n"
     ]
    }
   ],
   "source": [
    "lrc.fit(X_train,y_train)\n",
    "evaluate_model(lrc)"
   ]
  },
  {
   "cell_type": "markdown",
   "metadata": {},
   "source": [
    "### Support Vector Machines"
   ]
  },
  {
   "cell_type": "code",
   "execution_count": 106,
   "metadata": {},
   "outputs": [
    {
     "data": {
      "text/plain": [
       "1.0"
      ]
     },
     "execution_count": 106,
     "metadata": {},
     "output_type": "execute_result"
    }
   ],
   "source": [
    "from sklearn.svm import SVC\n",
    "\n",
    "C = 1.0\n",
    "svc = SVC(kernel='linear', C=C, gamma=2)\n",
    "svc_cv_scores = cross_val_score(svc, X_train, y_train, cv=10)\n",
    "\n",
    "svc_cv_scores.mean()"
   ]
  },
  {
   "cell_type": "code",
   "execution_count": 108,
   "metadata": {},
   "outputs": [
    {
     "name": "stdout",
     "output_type": "stream",
     "text": [
      "Test Accuracy :  1.0\n"
     ]
    },
    {
     "data": {
      "image/png": "[encoded data removed]",
      "text/plain": [
       "<Figure size 800x600 with 2 Axes>"
      ]
     },
     "metadata": {},
     "output_type": "display_data"
    },
    {
     "name": "stdout",
     "output_type": "stream",
     "text": [
      "----------------------------Classification Report ----------------------------\n",
      "              precision    recall  f1-score   support\n",
      "\n",
      "           0       1.00      1.00      1.00       137\n",
      "           1       1.00      1.00      1.00        82\n",
      "\n",
      "    accuracy                           1.00       219\n",
      "   macro avg       1.00      1.00      1.00       219\n",
      "weighted avg       1.00      1.00      1.00       219\n",
      "\n"
     ]
    }
   ],
   "source": [
    "svc.fit(X_train,y_train)\n",
    "evaluate_model(svc)"
   ]
  },
  {
   "cell_type": "markdown",
   "metadata": {},
   "source": [
    "### XGBoost"
   ]
  },
  {
   "cell_type": "code",
   "execution_count": 115,
   "metadata": {},
   "outputs": [
    {
     "name": "stdout",
     "output_type": "stream",
     "text": [
      "Test Accuracy :  1.0\n"
     ]
    },
    {
     "data": {
      "image/png": "[encoded data removed]",
      "text/plain": [
       "<Figure size 800x600 with 2 Axes>"
      ]
     },
     "metadata": {},
     "output_type": "display_data"
    },
    {
     "name": "stdout",
     "output_type": "stream",
     "text": [
      "----------------------------Classification Report ----------------------------\n",
      "              precision    recall  f1-score   support\n",
      "\n",
      "           0       1.00      1.00      1.00       137\n",
      "           1       1.00      1.00      1.00        82\n",
      "\n",
      "    accuracy                           1.00       219\n",
      "   macro avg       1.00      1.00      1.00       219\n",
      "weighted avg       1.00      1.00      1.00       219\n",
      "\n"
     ]
    }
   ],
   "source": [
    "import xgboost as xgb\n",
    "xgb_model = xgb.XGBClassifier(objective=\"multi:softmax\",num_class = 2, random_state=42)\n",
    "xgb_model.fit(X_train,y_train)\n",
    "evaluate_model(xgb_model)\n"
   ]
  },
  {
   "cell_type": "markdown",
   "metadata": {},
   "source": [
    "### Naive Bayes"
   ]
  },
  {
   "cell_type": "code",
   "execution_count": 116,
   "metadata": {},
   "outputs": [
    {
     "data": {
      "text/plain": [
       "0.8993730407523511"
      ]
     },
     "execution_count": 116,
     "metadata": {},
     "output_type": "execute_result"
    }
   ],
   "source": [
    "from sklearn.naive_bayes import MultinomialNB\n",
    "\n",
    "nb = MultinomialNB()\n",
    "nb_cv_scores = cross_val_score(nb, X_train, y_train, cv=10)\n",
    "\n",
    "nb_cv_scores.mean()"
   ]
  },
  {
   "cell_type": "code",
   "execution_count": 117,
   "metadata": {},
   "outputs": [
    {
     "name": "stdout",
     "output_type": "stream",
     "text": [
      "Test Accuracy :  0.9178082191780822\n"
     ]
    },
    {
     "data": {
      "image/png": "[encoded data removed]",
      "text/plain": [
       "<Figure size 800x600 with 2 Axes>"
      ]
     },
     "metadata": {},
     "output_type": "display_data"
    },
    {
     "name": "stdout",
     "output_type": "stream",
     "text": [
      "----------------------------Classification Report ----------------------------\n",
      "              precision    recall  f1-score   support\n",
      "\n",
      "           0       0.92      0.95      0.94       137\n",
      "           1       0.91      0.87      0.89        82\n",
      "\n",
      "    accuracy                           0.92       219\n",
      "   macro avg       0.92      0.91      0.91       219\n",
      "weighted avg       0.92      0.92      0.92       219\n",
      "\n"
     ]
    }
   ],
   "source": [
    "nb.fit(X_train,y_train)\n",
    "evaluate_model(nb)"
   ]
  },
  {
   "cell_type": "markdown",
   "metadata": {},
   "source": [
    "### Voting Classifier"
   ]
  },
  {
   "cell_type": "code",
   "execution_count": 120,
   "metadata": {},
   "outputs": [
    {
     "data": {
      "text/plain": [
       "1.0"
      ]
     },
     "execution_count": 120,
     "metadata": {},
     "output_type": "execute_result"
    }
   ],
   "source": [
    "from sklearn.svm import SVC\n",
    "from sklearn.tree import DecisionTreeClassifier\n",
    "from sklearn.ensemble import RandomForestClassifier, VotingClassifier\n",
    "clf1 = SVC(gamma='auto')\n",
    "clf2 = RandomForestClassifier(random_state=1)\n",
    "clf3 = DecisionTreeClassifier()\n",
    "vot = VotingClassifier(estimators=[('lr', clf1), ('rf', clf2), ('dt', clf3)], voting='hard')\n",
    "\n",
    "\n",
    "vot_cv_scores = cross_val_score(vot,X_train,y_train,cv=10)\n",
    "vot_cv_scores.mean()\n",
    "\n"
   ]
  },
  {
   "cell_type": "code",
   "execution_count": 121,
   "metadata": {},
   "outputs": [
    {
     "name": "stdout",
     "output_type": "stream",
     "text": [
      "Test Accuracy :  1.0\n"
     ]
    },
    {
     "data": {
      "image/png": "[encoded data removed]",
      "text/plain": [
       "<Figure size 800x600 with 2 Axes>"
      ]
     },
     "metadata": {},
     "output_type": "display_data"
    },
    {
     "name": "stdout",
     "output_type": "stream",
     "text": [
      "----------------------------Classification Report ----------------------------\n",
      "              precision    recall  f1-score   support\n",
      "\n",
      "           0       1.00      1.00      1.00       137\n",
      "           1       1.00      1.00      1.00        82\n",
      "\n",
      "    accuracy                           1.00       219\n",
      "   macro avg       1.00      1.00      1.00       219\n",
      "weighted avg       1.00      1.00      1.00       219\n",
      "\n"
     ]
    }
   ],
   "source": [
    "vot.fit(X_train,y_train)\n",
    "evaluate_model(vot)"
   ]
  },
  {
   "cell_type": "markdown",
   "metadata": {},
   "source": [
    "### GBDT"
   ]
  },
  {
   "cell_type": "code",
   "execution_count": 122,
   "metadata": {},
   "outputs": [
    {
     "name": "stderr",
     "output_type": "stream",
     "text": [
      "c:\\Users\\91814\\AppData\\Local\\Programs\\Python\\Python311\\Lib\\site-packages\\sklearn\\ensemble\\_base.py:156: FutureWarning: `base_estimator` was renamed to `estimator` in version 1.2 and will be removed in 1.4.\n",
      "  warnings.warn(\n",
      "c:\\Users\\91814\\AppData\\Local\\Programs\\Python\\Python311\\Lib\\site-packages\\sklearn\\ensemble\\_base.py:156: FutureWarning: `base_estimator` was renamed to `estimator` in version 1.2 and will be removed in 1.4.\n",
      "  warnings.warn(\n",
      "c:\\Users\\91814\\AppData\\Local\\Programs\\Python\\Python311\\Lib\\site-packages\\sklearn\\ensemble\\_base.py:156: FutureWarning: `base_estimator` was renamed to `estimator` in version 1.2 and will be removed in 1.4.\n",
      "  warnings.warn(\n",
      "c:\\Users\\91814\\AppData\\Local\\Programs\\Python\\Python311\\Lib\\site-packages\\sklearn\\ensemble\\_base.py:156: FutureWarning: `base_estimator` was renamed to `estimator` in version 1.2 and will be removed in 1.4.\n",
      "  warnings.warn(\n",
      "c:\\Users\\91814\\AppData\\Local\\Programs\\Python\\Python311\\Lib\\site-packages\\sklearn\\ensemble\\_base.py:156: FutureWarning: `base_estimator` was renamed to `estimator` in version 1.2 and will be removed in 1.4.\n",
      "  warnings.warn(\n",
      "c:\\Users\\91814\\AppData\\Local\\Programs\\Python\\Python311\\Lib\\site-packages\\sklearn\\ensemble\\_base.py:156: FutureWarning: `base_estimator` was renamed to `estimator` in version 1.2 and will be removed in 1.4.\n",
      "  warnings.warn(\n",
      "c:\\Users\\91814\\AppData\\Local\\Programs\\Python\\Python311\\Lib\\site-packages\\sklearn\\ensemble\\_base.py:156: FutureWarning: `base_estimator` was renamed to `estimator` in version 1.2 and will be removed in 1.4.\n",
      "  warnings.warn(\n",
      "c:\\Users\\91814\\AppData\\Local\\Programs\\Python\\Python311\\Lib\\site-packages\\sklearn\\ensemble\\_base.py:156: FutureWarning: `base_estimator` was renamed to `estimator` in version 1.2 and will be removed in 1.4.\n",
      "  warnings.warn(\n",
      "c:\\Users\\91814\\AppData\\Local\\Programs\\Python\\Python311\\Lib\\site-packages\\sklearn\\ensemble\\_base.py:156: FutureWarning: `base_estimator` was renamed to `estimator` in version 1.2 and will be removed in 1.4.\n",
      "  warnings.warn(\n",
      "c:\\Users\\91814\\AppData\\Local\\Programs\\Python\\Python311\\Lib\\site-packages\\sklearn\\ensemble\\_base.py:156: FutureWarning: `base_estimator` was renamed to `estimator` in version 1.2 and will be removed in 1.4.\n",
      "  warnings.warn(\n"
     ]
    },
    {
     "data": {
      "text/plain": [
       "1.0"
      ]
     },
     "execution_count": 122,
     "metadata": {},
     "output_type": "execute_result"
    }
   ],
   "source": [
    "from sklearn.tree import DecisionTreeClassifier\n",
    "from sklearn.ensemble import AdaBoostClassifier\n",
    "base_estimator=DecisionTreeClassifier(max_depth=1,criterion='gini', splitter='best', min_samples_split=2)\n",
    "gbdt = AdaBoostClassifier(base_estimator=base_estimator,n_estimators=100)\n",
    "\n",
    "gbdt_cv_scores = cross_val_score(gbdt,X_train,y_train,cv=10)\n",
    "gbdt_cv_scores.mean()\n",
    "\n"
   ]
  },
  {
   "cell_type": "code",
   "execution_count": 123,
   "metadata": {},
   "outputs": [
    {
     "name": "stderr",
     "output_type": "stream",
     "text": [
      "c:\\Users\\91814\\AppData\\Local\\Programs\\Python\\Python311\\Lib\\site-packages\\sklearn\\ensemble\\_base.py:156: FutureWarning: `base_estimator` was renamed to `estimator` in version 1.2 and will be removed in 1.4.\n",
      "  warnings.warn(\n"
     ]
    },
    {
     "name": "stdout",
     "output_type": "stream",
     "text": [
      "Test Accuracy :  1.0\n"
     ]
    },
    {
     "data": {
      "image/png": "[encoded data removed]",
      "text/plain": [
       "<Figure size 800x600 with 2 Axes>"
      ]
     },
     "metadata": {},
     "output_type": "display_data"
    },
    {
     "name": "stdout",
     "output_type": "stream",
     "text": [
      "----------------------------Classification Report ----------------------------\n",
      "              precision    recall  f1-score   support\n",
      "\n",
      "           0       1.00      1.00      1.00       137\n",
      "           1       1.00      1.00      1.00        82\n",
      "\n",
      "    accuracy                           1.00       219\n",
      "   macro avg       1.00      1.00      1.00       219\n",
      "weighted avg       1.00      1.00      1.00       219\n",
      "\n"
     ]
    }
   ],
   "source": [
    "gbdt.fit(X_train,y_train)\n",
    "evaluate_model(gbdt)"
   ]
  },
  {
   "cell_type": "markdown",
   "metadata": {},
   "source": [
    "### Bagging + GBDT\n"
   ]
  },
  {
   "cell_type": "code",
   "execution_count": 124,
   "metadata": {},
   "outputs": [
    {
     "name": "stderr",
     "output_type": "stream",
     "text": [
      "c:\\Users\\91814\\AppData\\Local\\Programs\\Python\\Python311\\Lib\\site-packages\\sklearn\\ensemble\\_base.py:156: FutureWarning: `base_estimator` was renamed to `estimator` in version 1.2 and will be removed in 1.4.\n",
      "  warnings.warn(\n",
      "c:\\Users\\91814\\AppData\\Local\\Programs\\Python\\Python311\\Lib\\site-packages\\sklearn\\ensemble\\_base.py:156: FutureWarning: `base_estimator` was renamed to `estimator` in version 1.2 and will be removed in 1.4.\n",
      "  warnings.warn(\n",
      "c:\\Users\\91814\\AppData\\Local\\Programs\\Python\\Python311\\Lib\\site-packages\\sklearn\\ensemble\\_base.py:156: FutureWarning: `base_estimator` was renamed to `estimator` in version 1.2 and will be removed in 1.4.\n",
      "  warnings.warn(\n",
      "c:\\Users\\91814\\AppData\\Local\\Programs\\Python\\Python311\\Lib\\site-packages\\sklearn\\ensemble\\_base.py:156: FutureWarning: `base_estimator` was renamed to `estimator` in version 1.2 and will be removed in 1.4.\n",
      "  warnings.warn(\n",
      "c:\\Users\\91814\\AppData\\Local\\Programs\\Python\\Python311\\Lib\\site-packages\\sklearn\\ensemble\\_base.py:156: FutureWarning: `base_estimator` was renamed to `estimator` in version 1.2 and will be removed in 1.4.\n",
      "  warnings.warn(\n",
      "c:\\Users\\91814\\AppData\\Local\\Programs\\Python\\Python311\\Lib\\site-packages\\sklearn\\ensemble\\_base.py:156: FutureWarning: `base_estimator` was renamed to `estimator` in version 1.2 and will be removed in 1.4.\n",
      "  warnings.warn(\n",
      "c:\\Users\\91814\\AppData\\Local\\Programs\\Python\\Python311\\Lib\\site-packages\\sklearn\\ensemble\\_base.py:156: FutureWarning: `base_estimator` was renamed to `estimator` in version 1.2 and will be removed in 1.4.\n",
      "  warnings.warn(\n",
      "c:\\Users\\91814\\AppData\\Local\\Programs\\Python\\Python311\\Lib\\site-packages\\sklearn\\ensemble\\_base.py:156: FutureWarning: `base_estimator` was renamed to `estimator` in version 1.2 and will be removed in 1.4.\n",
      "  warnings.warn(\n",
      "c:\\Users\\91814\\AppData\\Local\\Programs\\Python\\Python311\\Lib\\site-packages\\sklearn\\ensemble\\_base.py:156: FutureWarning: `base_estimator` was renamed to `estimator` in version 1.2 and will be removed in 1.4.\n",
      "  warnings.warn(\n",
      "c:\\Users\\91814\\AppData\\Local\\Programs\\Python\\Python311\\Lib\\site-packages\\sklearn\\ensemble\\_base.py:156: FutureWarning: `base_estimator` was renamed to `estimator` in version 1.2 and will be removed in 1.4.\n",
      "  warnings.warn(\n"
     ]
    },
    {
     "data": {
      "text/plain": [
       "0.9851097178683386"
      ]
     },
     "execution_count": 124,
     "metadata": {},
     "output_type": "execute_result"
    }
   ],
   "source": [
    "from sklearn.ensemble import ExtraTreesClassifier\n",
    "clf1 = ExtraTreesClassifier(n_estimators=1000, max_features=7, random_state=42)\n",
    "eclf1 = VotingClassifier(estimators=[('bagging', clf1), ('gbdt', gbdt)], voting='hard')\n",
    "\n",
    "eclf1_cv_scores = cross_val_score(eclf1,X_train,y_train,cv=10)\n",
    "eclf1_cv_scores.mean()"
   ]
  },
  {
   "cell_type": "code",
   "execution_count": 125,
   "metadata": {},
   "outputs": [
    {
     "name": "stderr",
     "output_type": "stream",
     "text": [
      "c:\\Users\\91814\\AppData\\Local\\Programs\\Python\\Python311\\Lib\\site-packages\\sklearn\\ensemble\\_base.py:156: FutureWarning: `base_estimator` was renamed to `estimator` in version 1.2 and will be removed in 1.4.\n",
      "  warnings.warn(\n"
     ]
    },
    {
     "name": "stdout",
     "output_type": "stream",
     "text": [
      "Test Accuracy :  0.9954337899543378\n"
     ]
    },
    {
     "data": {
      "image/png": "[encoded data removed]",
      "text/plain": [
       "<Figure size 800x600 with 2 Axes>"
      ]
     },
     "metadata": {},
     "output_type": "display_data"
    },
    {
     "name": "stdout",
     "output_type": "stream",
     "text": [
      "----------------------------Classification Report ----------------------------\n",
      "              precision    recall  f1-score   support\n",
      "\n",
      "           0       0.99      1.00      1.00       137\n",
      "           1       1.00      0.99      0.99        82\n",
      "\n",
      "    accuracy                           1.00       219\n",
      "   macro avg       1.00      0.99      1.00       219\n",
      "weighted avg       1.00      1.00      1.00       219\n",
      "\n"
     ]
    }
   ],
   "source": [
    "eclf1.fit(X_train,y_train)\n",
    "evaluate_model(eclf1)"
   ]
  },
  {
   "cell_type": "markdown",
   "metadata": {},
   "source": [
    "### Bagging + Fuzzy + GBDT"
   ]
  },
  {
   "cell_type": "code",
   "execution_count": 126,
   "metadata": {},
   "outputs": [
    {
     "name": "stderr",
     "output_type": "stream",
     "text": [
      "c:\\Users\\91814\\AppData\\Local\\Programs\\Python\\Python311\\Lib\\site-packages\\sklearn\\ensemble\\_base.py:156: FutureWarning: `base_estimator` was renamed to `estimator` in version 1.2 and will be removed in 1.4.\n",
      "  warnings.warn(\n",
      "c:\\Users\\91814\\AppData\\Local\\Programs\\Python\\Python311\\Lib\\site-packages\\sklearn\\ensemble\\_base.py:156: FutureWarning: `base_estimator` was renamed to `estimator` in version 1.2 and will be removed in 1.4.\n",
      "  warnings.warn(\n",
      "c:\\Users\\91814\\AppData\\Local\\Programs\\Python\\Python311\\Lib\\site-packages\\sklearn\\ensemble\\_base.py:156: FutureWarning: `base_estimator` was renamed to `estimator` in version 1.2 and will be removed in 1.4.\n",
      "  warnings.warn(\n",
      "c:\\Users\\91814\\AppData\\Local\\Programs\\Python\\Python311\\Lib\\site-packages\\sklearn\\ensemble\\_base.py:156: FutureWarning: `base_estimator` was renamed to `estimator` in version 1.2 and will be removed in 1.4.\n",
      "  warnings.warn(\n",
      "c:\\Users\\91814\\AppData\\Local\\Programs\\Python\\Python311\\Lib\\site-packages\\sklearn\\ensemble\\_base.py:156: FutureWarning: `base_estimator` was renamed to `estimator` in version 1.2 and will be removed in 1.4.\n",
      "  warnings.warn(\n",
      "c:\\Users\\91814\\AppData\\Local\\Programs\\Python\\Python311\\Lib\\site-packages\\sklearn\\ensemble\\_base.py:156: FutureWarning: `base_estimator` was renamed to `estimator` in version 1.2 and will be removed in 1.4.\n",
      "  warnings.warn(\n",
      "c:\\Users\\91814\\AppData\\Local\\Programs\\Python\\Python311\\Lib\\site-packages\\sklearn\\ensemble\\_base.py:156: FutureWarning: `base_estimator` was renamed to `estimator` in version 1.2 and will be removed in 1.4.\n",
      "  warnings.warn(\n",
      "c:\\Users\\91814\\AppData\\Local\\Programs\\Python\\Python311\\Lib\\site-packages\\sklearn\\ensemble\\_base.py:156: FutureWarning: `base_estimator` was renamed to `estimator` in version 1.2 and will be removed in 1.4.\n",
      "  warnings.warn(\n",
      "c:\\Users\\91814\\AppData\\Local\\Programs\\Python\\Python311\\Lib\\site-packages\\sklearn\\ensemble\\_base.py:156: FutureWarning: `base_estimator` was renamed to `estimator` in version 1.2 and will be removed in 1.4.\n",
      "  warnings.warn(\n",
      "c:\\Users\\91814\\AppData\\Local\\Programs\\Python\\Python311\\Lib\\site-packages\\sklearn\\ensemble\\_base.py:156: FutureWarning: `base_estimator` was renamed to `estimator` in version 1.2 and will be removed in 1.4.\n",
      "  warnings.warn(\n"
     ]
    },
    {
     "data": {
      "text/plain": [
       "1.0"
      ]
     },
     "execution_count": 126,
     "metadata": {},
     "output_type": "execute_result"
    }
   ],
   "source": [
    "eclf2 = VotingClassifier(estimators=[('bagging', clf1),('fuzzy', clf2), ('gbdt',gbdt)], voting='hard')\n",
    "eclf2_cv_scores = cross_val_score(eclf2,X_train,y_train,cv=10)\n",
    "eclf2_cv_scores.mean()\n"
   ]
  },
  {
   "cell_type": "code",
   "execution_count": 127,
   "metadata": {},
   "outputs": [
    {
     "name": "stderr",
     "output_type": "stream",
     "text": [
      "c:\\Users\\91814\\AppData\\Local\\Programs\\Python\\Python311\\Lib\\site-packages\\sklearn\\ensemble\\_base.py:156: FutureWarning: `base_estimator` was renamed to `estimator` in version 1.2 and will be removed in 1.4.\n",
      "  warnings.warn(\n"
     ]
    },
    {
     "name": "stdout",
     "output_type": "stream",
     "text": [
      "Test Accuracy :  1.0\n"
     ]
    },
    {
     "data": {
      "image/png": "[encoded data removed]",
      "text/plain": [
       "<Figure size 800x600 with 2 Axes>"
      ]
     },
     "metadata": {},
     "output_type": "display_data"
    },
    {
     "name": "stdout",
     "output_type": "stream",
     "text": [
      "----------------------------Classification Report ----------------------------\n",
      "              precision    recall  f1-score   support\n",
      "\n",
      "           0       1.00      1.00      1.00       137\n",
      "           1       1.00      1.00      1.00        82\n",
      "\n",
      "    accuracy                           1.00       219\n",
      "   macro avg       1.00      1.00      1.00       219\n",
      "weighted avg       1.00      1.00      1.00       219\n",
      "\n"
     ]
    }
   ],
   "source": [
    "eclf2.fit(X_train,y_train)\n",
    "evaluate_model(eclf2)"
   ]
  },
  {
   "cell_type": "markdown",
   "metadata": {},
   "source": [
    "### Linear Discriminant Analysis"
   ]
  },
  {
   "cell_type": "code",
   "execution_count": 129,
   "metadata": {},
   "outputs": [
    {
     "data": {
      "text/plain": [
       "0.9349007314524556"
      ]
     },
     "execution_count": 129,
     "metadata": {},
     "output_type": "execute_result"
    }
   ],
   "source": [
    "from sklearn.discriminant_analysis import LinearDiscriminantAnalysis\n",
    "\n",
    "lda = LinearDiscriminantAnalysis()\n",
    "lda_cv_scores = cross_val_score(lda, X_train, y_train, cv=10)\n",
    "lda_cv_scores.mean()"
   ]
  },
  {
   "cell_type": "code",
   "execution_count": 130,
   "metadata": {},
   "outputs": [
    {
     "name": "stdout",
     "output_type": "stream",
     "text": [
      "Test Accuracy :  0.954337899543379\n"
     ]
    },
    {
     "data": {
      "image/png": "[encoded data removed]",
      "text/plain": [
       "<Figure size 800x600 with 2 Axes>"
      ]
     },
     "metadata": {},
     "output_type": "display_data"
    },
    {
     "name": "stdout",
     "output_type": "stream",
     "text": [
      "----------------------------Classification Report ----------------------------\n",
      "              precision    recall  f1-score   support\n",
      "\n",
      "           0       1.00      0.93      0.96       137\n",
      "           1       0.89      1.00      0.94        82\n",
      "\n",
      "    accuracy                           0.95       219\n",
      "   macro avg       0.95      0.96      0.95       219\n",
      "weighted avg       0.96      0.95      0.95       219\n",
      "\n"
     ]
    }
   ],
   "source": [
    "lda.fit(X_train,y_train)\n",
    "evaluate_model(lda)"
   ]
  },
  {
   "cell_type": "markdown",
   "metadata": {},
   "source": [
    "### Quadratic Discriminant Analysis"
   ]
  },
  {
   "cell_type": "code",
   "execution_count": 132,
   "metadata": {},
   "outputs": [
    {
     "name": "stderr",
     "output_type": "stream",
     "text": [
      "c:\\Users\\91814\\AppData\\Local\\Programs\\Python\\Python311\\Lib\\site-packages\\sklearn\\discriminant_analysis.py:935: UserWarning: Variables are collinear\n",
      "  warnings.warn(\"Variables are collinear\")\n",
      "c:\\Users\\91814\\AppData\\Local\\Programs\\Python\\Python311\\Lib\\site-packages\\sklearn\\discriminant_analysis.py:935: UserWarning: Variables are collinear\n",
      "  warnings.warn(\"Variables are collinear\")\n",
      "c:\\Users\\91814\\AppData\\Local\\Programs\\Python\\Python311\\Lib\\site-packages\\sklearn\\discriminant_analysis.py:935: UserWarning: Variables are collinear\n",
      "  warnings.warn(\"Variables are collinear\")\n",
      "c:\\Users\\91814\\AppData\\Local\\Programs\\Python\\Python311\\Lib\\site-packages\\sklearn\\discriminant_analysis.py:935: UserWarning: Variables are collinear\n",
      "  warnings.warn(\"Variables are collinear\")\n",
      "c:\\Users\\91814\\AppData\\Local\\Programs\\Python\\Python311\\Lib\\site-packages\\sklearn\\discriminant_analysis.py:935: UserWarning: Variables are collinear\n",
      "  warnings.warn(\"Variables are collinear\")\n",
      "c:\\Users\\91814\\AppData\\Local\\Programs\\Python\\Python311\\Lib\\site-packages\\sklearn\\discriminant_analysis.py:935: UserWarning: Variables are collinear\n",
      "  warnings.warn(\"Variables are collinear\")\n",
      "c:\\Users\\91814\\AppData\\Local\\Programs\\Python\\Python311\\Lib\\site-packages\\sklearn\\discriminant_analysis.py:935: UserWarning: Variables are collinear\n",
      "  warnings.warn(\"Variables are collinear\")\n",
      "c:\\Users\\91814\\AppData\\Local\\Programs\\Python\\Python311\\Lib\\site-packages\\sklearn\\discriminant_analysis.py:935: UserWarning: Variables are collinear\n",
      "  warnings.warn(\"Variables are collinear\")\n",
      "c:\\Users\\91814\\AppData\\Local\\Programs\\Python\\Python311\\Lib\\site-packages\\sklearn\\discriminant_analysis.py:935: UserWarning: Variables are collinear\n",
      "  warnings.warn(\"Variables are collinear\")\n",
      "c:\\Users\\91814\\AppData\\Local\\Programs\\Python\\Python311\\Lib\\site-packages\\sklearn\\discriminant_analysis.py:935: UserWarning: Variables are collinear\n",
      "  warnings.warn(\"Variables are collinear\")\n"
     ]
    },
    {
     "data": {
      "text/plain": [
       "0.4011755485893416"
      ]
     },
     "execution_count": 132,
     "metadata": {},
     "output_type": "execute_result"
    }
   ],
   "source": [
    "from sklearn.discriminant_analysis import QuadraticDiscriminantAnalysis\n",
    "\n",
    "qda = QuadraticDiscriminantAnalysis()\n",
    "qda_cv_scores = cross_val_score(qda, X_train, y_train, cv=10)\n",
    "qda_cv_scores.mean()"
   ]
  },
  {
   "cell_type": "code",
   "execution_count": 133,
   "metadata": {},
   "outputs": [
    {
     "name": "stderr",
     "output_type": "stream",
     "text": [
      "c:\\Users\\91814\\AppData\\Local\\Programs\\Python\\Python311\\Lib\\site-packages\\sklearn\\discriminant_analysis.py:935: UserWarning: Variables are collinear\n",
      "  warnings.warn(\"Variables are collinear\")\n"
     ]
    },
    {
     "name": "stdout",
     "output_type": "stream",
     "text": [
      "Test Accuracy :  0.3926940639269406\n"
     ]
    },
    {
     "data": {
      "image/png": "[encoded data removed]",
      "text/plain": [
       "<Figure size 800x600 with 2 Axes>"
      ]
     },
     "metadata": {},
     "output_type": "display_data"
    },
    {
     "name": "stdout",
     "output_type": "stream",
     "text": [
      "----------------------------Classification Report ----------------------------\n",
      "              precision    recall  f1-score   support\n",
      "\n",
      "           0       0.83      0.04      0.07       137\n",
      "           1       0.38      0.99      0.55        82\n",
      "\n",
      "    accuracy                           0.39       219\n",
      "   macro avg       0.61      0.51      0.31       219\n",
      "weighted avg       0.66      0.39      0.25       219\n",
      "\n"
     ]
    }
   ],
   "source": [
    "qda.fit(X_train,y_train)\n",
    "evaluate_model(qda)"
   ]
  },
  {
   "cell_type": "markdown",
   "metadata": {},
   "source": [
    "### Neural Network"
   ]
  },
  {
   "cell_type": "code",
   "execution_count": 134,
   "metadata": {},
   "outputs": [],
   "source": [
    "import tensorflow as tf"
   ]
  },
  {
   "cell_type": "code",
   "execution_count": 147,
   "metadata": {},
   "outputs": [
    {
     "name": "stdout",
     "output_type": "stream",
     "text": [
      "Model: \"sequential_2\"\n",
      "_________________________________________________________________\n",
      " Layer (type)                Output Shape              Param #   \n",
      "=================================================================\n",
      " dense_4 (Dense)             (None, 4)                 508       \n",
      "                                                                 \n"
     ]
    },
    {
     "name": "stdout",
     "output_type": "stream",
     "text": [
      " dropout_2 (Dropout)         (None, 4)                 0         \n",
      "                                                                 \n",
      " dense_5 (Dense)             (None, 1)                 5         \n",
      "                                                                 \n",
      "=================================================================\n",
      "Total params: 513 (2.00 KB)\n",
      "Trainable params: 513 (2.00 KB)\n",
      "Non-trainable params: 0 (0.00 Byte)\n",
      "_________________________________________________________________\n"
     ]
    }
   ],
   "source": [
    "from tensorflow.keras.models import Sequential\n",
    "from tensorflow.keras.layers import Dense, Dropout\n",
    "\n",
    "model = Sequential()\n",
    "model.add(Dense(4, activation='relu', input_dim= 126))\n",
    "model.add(Dropout(0.2))\n",
    "model.add(Dense(1, kernel_initializer='normal', activation='sigmoid'))\n",
    "   \n",
    "    \n",
    "model.summary()"
   ]
  },
  {
   "cell_type": "code",
   "execution_count": 148,
   "metadata": {},
   "outputs": [],
   "source": [
    "model.compile(loss='binary_crossentropy',\n",
    "              optimizer='rmsprop',\n",
    "              metrics=['accuracy'])"
   ]
  },
  {
   "cell_type": "code",
   "execution_count": 149,
   "metadata": {},
   "outputs": [],
   "source": [
    "X_train = X_train.astype('float32')\n",
    "X_test = X_test.astype('float32')\n",
    "y_train = y_train.astype('float32')  # or 'float32'\n",
    "y_test = y_test.astype('float32') "
   ]
  },
  {
   "cell_type": "code",
   "execution_count": 150,
   "metadata": {},
   "outputs": [
    {
     "name": "stdout",
     "output_type": "stream",
     "text": [
      "Epoch 1/100\n",
      "55/55 [==============================] - 1s 3ms/step - loss: 0.6789 - accuracy: 0.6309\n",
      "Epoch 2/100\n",
      "55/55 [==============================] - 0s 3ms/step - loss: 0.6378 - accuracy: 0.6469\n",
      "Epoch 3/100\n",
      "55/55 [==============================] - 0s 3ms/step - loss: 0.5843 - accuracy: 0.6469\n",
      "Epoch 4/100\n",
      "55/55 [==============================] - 0s 3ms/step - loss: 0.5343 - accuracy: 0.6560\n",
      "Epoch 5/100\n",
      "55/55 [==============================] - 0s 3ms/step - loss: 0.4914 - accuracy: 0.6971\n",
      "Epoch 6/100\n",
      "55/55 [==============================] - 0s 3ms/step - loss: 0.4476 - accuracy: 0.7680\n",
      "Epoch 7/100\n",
      "55/55 [==============================] - 0s 3ms/step - loss: 0.4102 - accuracy: 0.8034\n",
      "Epoch 8/100\n",
      "55/55 [==============================] - 0s 3ms/step - loss: 0.3701 - accuracy: 0.8423\n",
      "Epoch 9/100\n",
      "55/55 [==============================] - 0s 4ms/step - loss: 0.3428 - accuracy: 0.8617\n",
      "Epoch 10/100\n",
      "55/55 [==============================] - 0s 3ms/step - loss: 0.3098 - accuracy: 0.8914\n",
      "Epoch 11/100\n",
      "55/55 [==============================] - 0s 3ms/step - loss: 0.2866 - accuracy: 0.8994\n",
      "Epoch 12/100\n",
      "55/55 [==============================] - 0s 3ms/step - loss: 0.2673 - accuracy: 0.9109\n",
      "Epoch 13/100\n",
      "55/55 [==============================] - 0s 3ms/step - loss: 0.2575 - accuracy: 0.9120\n",
      "Epoch 14/100\n",
      "55/55 [==============================] - 0s 3ms/step - loss: 0.2281 - accuracy: 0.9257\n",
      "Epoch 15/100\n",
      "55/55 [==============================] - 0s 3ms/step - loss: 0.2165 - accuracy: 0.9246\n",
      "Epoch 16/100\n",
      "55/55 [==============================] - 0s 3ms/step - loss: 0.2113 - accuracy: 0.9257\n",
      "Epoch 17/100\n",
      "55/55 [==============================] - 0s 5ms/step - loss: 0.1939 - accuracy: 0.9360\n",
      "Epoch 18/100\n",
      "55/55 [==============================] - 0s 4ms/step - loss: 0.1813 - accuracy: 0.9509\n",
      "Epoch 19/100\n",
      "55/55 [==============================] - 0s 4ms/step - loss: 0.1777 - accuracy: 0.9440\n",
      "Epoch 20/100\n",
      "55/55 [==============================] - 0s 3ms/step - loss: 0.1691 - accuracy: 0.9429\n",
      "Epoch 21/100\n",
      "55/55 [==============================] - 0s 3ms/step - loss: 0.1563 - accuracy: 0.9474\n",
      "Epoch 22/100\n",
      "55/55 [==============================] - 0s 3ms/step - loss: 0.1605 - accuracy: 0.9451\n",
      "Epoch 23/100\n",
      "55/55 [==============================] - 0s 3ms/step - loss: 0.1397 - accuracy: 0.9577\n",
      "Epoch 24/100\n",
      "55/55 [==============================] - 0s 3ms/step - loss: 0.1401 - accuracy: 0.9589\n",
      "Epoch 25/100\n",
      "55/55 [==============================] - 0s 3ms/step - loss: 0.1307 - accuracy: 0.9646\n",
      "Epoch 26/100\n",
      "55/55 [==============================] - 0s 3ms/step - loss: 0.1280 - accuracy: 0.9611\n",
      "Epoch 27/100\n",
      "55/55 [==============================] - 0s 3ms/step - loss: 0.1206 - accuracy: 0.9691\n",
      "Epoch 28/100\n",
      "55/55 [==============================] - 0s 3ms/step - loss: 0.1327 - accuracy: 0.9566\n",
      "Epoch 29/100\n",
      "55/55 [==============================] - 0s 3ms/step - loss: 0.1134 - accuracy: 0.9703\n",
      "Epoch 30/100\n",
      "55/55 [==============================] - 0s 3ms/step - loss: 0.1057 - accuracy: 0.9714\n",
      "Epoch 31/100\n",
      "55/55 [==============================] - 0s 3ms/step - loss: 0.0995 - accuracy: 0.9771\n",
      "Epoch 32/100\n",
      "55/55 [==============================] - 0s 3ms/step - loss: 0.1008 - accuracy: 0.9760\n",
      "Epoch 33/100\n",
      "55/55 [==============================] - 0s 3ms/step - loss: 0.1003 - accuracy: 0.9691\n",
      "Epoch 34/100\n",
      "55/55 [==============================] - 0s 3ms/step - loss: 0.1047 - accuracy: 0.9680\n",
      "Epoch 35/100\n",
      "55/55 [==============================] - 0s 3ms/step - loss: 0.1106 - accuracy: 0.9680\n",
      "Epoch 36/100\n",
      "55/55 [==============================] - 0s 3ms/step - loss: 0.0838 - accuracy: 0.9817\n",
      "Epoch 37/100\n",
      "55/55 [==============================] - 0s 3ms/step - loss: 0.0904 - accuracy: 0.9749\n",
      "Epoch 38/100\n",
      "55/55 [==============================] - 0s 3ms/step - loss: 0.0832 - accuracy: 0.9749\n",
      "Epoch 39/100\n",
      "55/55 [==============================] - 0s 2ms/step - loss: 0.0916 - accuracy: 0.9794\n",
      "Epoch 40/100\n",
      "55/55 [==============================] - 0s 3ms/step - loss: 0.0776 - accuracy: 0.9829\n",
      "Epoch 41/100\n",
      "55/55 [==============================] - 0s 3ms/step - loss: 0.0799 - accuracy: 0.9829\n",
      "Epoch 42/100\n",
      "55/55 [==============================] - 0s 5ms/step - loss: 0.0838 - accuracy: 0.9771\n",
      "Epoch 43/100\n",
      "55/55 [==============================] - 0s 3ms/step - loss: 0.0710 - accuracy: 0.9886\n",
      "Epoch 44/100\n",
      "55/55 [==============================] - 0s 3ms/step - loss: 0.0837 - accuracy: 0.9794\n",
      "Epoch 45/100\n",
      "55/55 [==============================] - 0s 3ms/step - loss: 0.0644 - accuracy: 0.9909\n",
      "Epoch 46/100\n",
      "55/55 [==============================] - 0s 2ms/step - loss: 0.0718 - accuracy: 0.9817\n",
      "Epoch 47/100\n",
      "55/55 [==============================] - 0s 3ms/step - loss: 0.0673 - accuracy: 0.9829\n",
      "Epoch 48/100\n",
      "55/55 [==============================] - 0s 3ms/step - loss: 0.0702 - accuracy: 0.9829\n",
      "Epoch 49/100\n",
      "55/55 [==============================] - 0s 3ms/step - loss: 0.0609 - accuracy: 0.9874\n",
      "Epoch 50/100\n",
      "55/55 [==============================] - 0s 3ms/step - loss: 0.0625 - accuracy: 0.9920\n",
      "Epoch 51/100\n",
      "55/55 [==============================] - 0s 3ms/step - loss: 0.0609 - accuracy: 0.9886\n",
      "Epoch 52/100\n",
      "55/55 [==============================] - 0s 3ms/step - loss: 0.0583 - accuracy: 0.9863\n",
      "Epoch 53/100\n",
      "55/55 [==============================] - 0s 3ms/step - loss: 0.0633 - accuracy: 0.9783\n",
      "Epoch 54/100\n",
      "55/55 [==============================] - 0s 3ms/step - loss: 0.0608 - accuracy: 0.9863\n",
      "Epoch 55/100\n",
      "55/55 [==============================] - 0s 3ms/step - loss: 0.0513 - accuracy: 0.9909\n",
      "Epoch 56/100\n",
      "55/55 [==============================] - 0s 3ms/step - loss: 0.0543 - accuracy: 0.9909\n",
      "Epoch 57/100\n",
      "55/55 [==============================] - 0s 3ms/step - loss: 0.0515 - accuracy: 0.9886\n",
      "Epoch 58/100\n",
      "55/55 [==============================] - 0s 3ms/step - loss: 0.0471 - accuracy: 0.9943\n",
      "Epoch 59/100\n",
      "55/55 [==============================] - 0s 3ms/step - loss: 0.0457 - accuracy: 0.9954\n",
      "Epoch 60/100\n",
      "55/55 [==============================] - 0s 3ms/step - loss: 0.0463 - accuracy: 0.9931\n",
      "Epoch 61/100\n",
      "55/55 [==============================] - 0s 3ms/step - loss: 0.0489 - accuracy: 0.9897\n",
      "Epoch 62/100\n",
      "55/55 [==============================] - 0s 3ms/step - loss: 0.0431 - accuracy: 0.9920\n",
      "Epoch 63/100\n",
      "55/55 [==============================] - 0s 3ms/step - loss: 0.0415 - accuracy: 0.9931\n",
      "Epoch 64/100\n",
      "55/55 [==============================] - 0s 3ms/step - loss: 0.0387 - accuracy: 0.9954\n",
      "Epoch 65/100\n",
      "55/55 [==============================] - 0s 3ms/step - loss: 0.0429 - accuracy: 0.9943\n",
      "Epoch 66/100\n",
      "55/55 [==============================] - 0s 2ms/step - loss: 0.0374 - accuracy: 0.9943\n",
      "Epoch 67/100\n",
      "55/55 [==============================] - 0s 3ms/step - loss: 0.0361 - accuracy: 0.9954\n",
      "Epoch 68/100\n",
      "55/55 [==============================] - 0s 3ms/step - loss: 0.0446 - accuracy: 0.9931\n",
      "Epoch 69/100\n",
      "55/55 [==============================] - 0s 3ms/step - loss: 0.0318 - accuracy: 0.9966\n",
      "Epoch 70/100\n",
      "55/55 [==============================] - 0s 4ms/step - loss: 0.0416 - accuracy: 0.9909\n",
      "Epoch 71/100\n",
      "55/55 [==============================] - 0s 3ms/step - loss: 0.0386 - accuracy: 0.9943\n",
      "Epoch 72/100\n",
      "55/55 [==============================] - 0s 3ms/step - loss: 0.0281 - accuracy: 0.9954\n",
      "Epoch 73/100\n",
      "55/55 [==============================] - 0s 3ms/step - loss: 0.0335 - accuracy: 0.9954\n",
      "Epoch 74/100\n",
      "55/55 [==============================] - 0s 3ms/step - loss: 0.0276 - accuracy: 0.9943\n",
      "Epoch 75/100\n",
      "55/55 [==============================] - 0s 3ms/step - loss: 0.0332 - accuracy: 0.9954\n",
      "Epoch 76/100\n",
      "55/55 [==============================] - 0s 3ms/step - loss: 0.0370 - accuracy: 0.9920\n",
      "Epoch 77/100\n",
      "55/55 [==============================] - 0s 3ms/step - loss: 0.0364 - accuracy: 0.9920\n",
      "Epoch 78/100\n",
      "55/55 [==============================] - 0s 4ms/step - loss: 0.0293 - accuracy: 0.9966\n",
      "Epoch 79/100\n",
      "55/55 [==============================] - 0s 3ms/step - loss: 0.0426 - accuracy: 0.9909\n",
      "Epoch 80/100\n",
      "55/55 [==============================] - 0s 3ms/step - loss: 0.0372 - accuracy: 0.9943\n",
      "Epoch 81/100\n",
      "55/55 [==============================] - 0s 3ms/step - loss: 0.0329 - accuracy: 0.9931\n",
      "Epoch 82/100\n",
      "55/55 [==============================] - 0s 3ms/step - loss: 0.0304 - accuracy: 0.9943\n",
      "Epoch 83/100\n",
      "55/55 [==============================] - 0s 3ms/step - loss: 0.0274 - accuracy: 0.9954\n",
      "Epoch 84/100\n",
      "55/55 [==============================] - 0s 3ms/step - loss: 0.0250 - accuracy: 0.9966\n",
      "Epoch 85/100\n",
      "55/55 [==============================] - 0s 3ms/step - loss: 0.0288 - accuracy: 0.9954\n",
      "Epoch 86/100\n",
      "55/55 [==============================] - 0s 3ms/step - loss: 0.0334 - accuracy: 0.9920\n",
      "Epoch 87/100\n",
      "55/55 [==============================] - 0s 3ms/step - loss: 0.0257 - accuracy: 0.9943\n",
      "Epoch 88/100\n",
      "55/55 [==============================] - 0s 3ms/step - loss: 0.0293 - accuracy: 0.9943\n",
      "Epoch 89/100\n",
      "55/55 [==============================] - 0s 3ms/step - loss: 0.0252 - accuracy: 0.9954\n",
      "Epoch 90/100\n",
      "55/55 [==============================] - 0s 4ms/step - loss: 0.0288 - accuracy: 0.9943\n",
      "Epoch 91/100\n",
      "55/55 [==============================] - 0s 3ms/step - loss: 0.0415 - accuracy: 0.9874\n",
      "Epoch 92/100\n",
      "55/55 [==============================] - 0s 3ms/step - loss: 0.0304 - accuracy: 0.9931\n",
      "Epoch 93/100\n",
      "55/55 [==============================] - 0s 3ms/step - loss: 0.0323 - accuracy: 0.9920\n",
      "Epoch 94/100\n",
      "55/55 [==============================] - 0s 3ms/step - loss: 0.0302 - accuracy: 0.9931\n",
      "Epoch 95/100\n",
      "55/55 [==============================] - 0s 3ms/step - loss: 0.0280 - accuracy: 0.9931\n",
      "Epoch 96/100\n",
      "55/55 [==============================] - 0s 3ms/step - loss: 0.0314 - accuracy: 0.9931\n",
      "Epoch 97/100\n",
      "55/55 [==============================] - 0s 3ms/step - loss: 0.0292 - accuracy: 0.9943\n",
      "Epoch 98/100\n",
      "55/55 [==============================] - 0s 3ms/step - loss: 0.0237 - accuracy: 0.9966\n",
      "Epoch 99/100\n",
      "55/55 [==============================] - 0s 3ms/step - loss: 0.0221 - accuracy: 0.9977\n",
      "Epoch 100/100\n",
      "55/55 [==============================] - 0s 3ms/step - loss: 0.0235 - accuracy: 0.9943\n"
     ]
    }
   ],
   "source": [
    "hist = model.fit(X_train, y_train,\n",
    "          batch_size=16,\n",
    "          epochs=100)"
   ]
  },
  {
   "cell_type": "code",
   "execution_count": 152,
   "metadata": {},
   "outputs": [
    {
     "name": "stdout",
     "output_type": "stream",
     "text": [
      "7/7 [==============================] - 0s 5ms/step\n",
      "Test Accuracy :  1.0\n"
     ]
    },
    {
     "data": {
      "image/png": "[encoded data removed]",
      "text/plain": [
       "<Figure size 800x600 with 2 Axes>"
      ]
     },
     "metadata": {},
     "output_type": "display_data"
    },
    {
     "name": "stdout",
     "output_type": "stream",
     "text": [
      "----------------------------Classification Report ----------------------------\n",
      "              precision    recall  f1-score   support\n",
      "\n",
      "         0.0       1.00      1.00      1.00       137\n",
      "         1.0       1.00      1.00      1.00        82\n",
      "\n",
      "    accuracy                           1.00       219\n",
      "   macro avg       1.00      1.00      1.00       219\n",
      "weighted avg       1.00      1.00      1.00       219\n",
      "\n"
     ]
    }
   ],
   "source": [
    "y_preds = (model.predict(X_test) > 0.5).astype(int)\n",
    "\n",
    "print(\"Test Accuracy : \",accuracy_score(y_test,y_preds))\n",
    "cm = confusion_matrix(y_test, y_preds)\n",
    "plt.figure(figsize=(8, 6))\n",
    "sns.heatmap(cm, annot=True, fmt='d', cmap='Blues')\n",
    "plt.xlabel('Predicted Labels')\n",
    "plt.ylabel('True Labels')\n",
    "plt.show()\n",
    "print(\"----------------------------Classification Report ----------------------------\")\n",
    "print(classification_report(y_test,y_preds))"
   ]
  },
  {
   "cell_type": "code",
   "execution_count": null,
   "metadata": {},
   "outputs": [],
   "source": []
  }
 ],
 "metadata": {
  "kernelspec": {
   "display_name": "Python 3",
   "language": "python",
   "name": "python3"
  },
  "language_info": {
   "codemirror_mode": {
    "name": "ipython",
    "version": 3
   },
   "file_extension": ".py",
   "mimetype": "text/x-python",
   "name": "python",
   "nbconvert_exporter": "python",
   "pygments_lexer": "ipython3",
   "version": "3.11.4"
  }
 },
 "nbformat": 4,
 "nbformat_minor": 2
}
